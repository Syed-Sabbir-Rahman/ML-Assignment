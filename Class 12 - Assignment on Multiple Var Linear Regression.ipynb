{
 "cells": [
  {
   "cell_type": "markdown",
   "id": "719899b3",
   "metadata": {},
   "source": [
    "# Assignment 06"
   ]
  },
  {
   "cell_type": "code",
   "execution_count": null,
   "id": "fe583870",
   "metadata": {},
   "outputs": [],
   "source": [
    "# import the data\n",
    "# sep x,y\n",
    "# find out the coef , intercept\n",
    "# y = m1*x1 + m2*x2 + m3*x3 + c\n",
    "\n",
    "#KNN Regressor\n",
    "\n",
    "# calculate r2_score\n",
    "#compared"
   ]
  },
  {
   "cell_type": "code",
   "execution_count": 43,
   "id": "9dd16cca",
   "metadata": {},
   "outputs": [],
   "source": [
    "import pandas as pd \n",
    "import numpy as np\n",
    "from matplotlib import pyplot as plt\n",
    "from sklearn.model_selection import train_test_split as tts\n",
    "from sklearn.linear_model import LinearRegression\n",
    "from sklearn.metrics import r2_score\n",
    "from sklearn.metrics import mean_squared_error, mean_absolute_error\n",
    "\n",
    "import warnings\n",
    "warnings.filterwarnings('ignore')"
   ]
  },
  {
   "cell_type": "code",
   "execution_count": 3,
   "id": "62786dc8",
   "metadata": {},
   "outputs": [],
   "source": [
    "df = pd.read_csv('insurance.csv')"
   ]
  },
  {
   "cell_type": "code",
   "execution_count": 4,
   "id": "82ec91c9",
   "metadata": {},
   "outputs": [
    {
     "data": {
      "text/html": [
       "<div>\n",
       "<style scoped>\n",
       "    .dataframe tbody tr th:only-of-type {\n",
       "        vertical-align: middle;\n",
       "    }\n",
       "\n",
       "    .dataframe tbody tr th {\n",
       "        vertical-align: top;\n",
       "    }\n",
       "\n",
       "    .dataframe thead th {\n",
       "        text-align: right;\n",
       "    }\n",
       "</style>\n",
       "<table border=\"1\" class=\"dataframe\">\n",
       "  <thead>\n",
       "    <tr style=\"text-align: right;\">\n",
       "      <th></th>\n",
       "      <th>age</th>\n",
       "      <th>sex</th>\n",
       "      <th>bmi</th>\n",
       "      <th>children</th>\n",
       "      <th>smoker</th>\n",
       "      <th>region</th>\n",
       "      <th>charges</th>\n",
       "    </tr>\n",
       "  </thead>\n",
       "  <tbody>\n",
       "    <tr>\n",
       "      <th>0</th>\n",
       "      <td>19</td>\n",
       "      <td>female</td>\n",
       "      <td>27.900</td>\n",
       "      <td>0</td>\n",
       "      <td>yes</td>\n",
       "      <td>southwest</td>\n",
       "      <td>16884.92400</td>\n",
       "    </tr>\n",
       "    <tr>\n",
       "      <th>1</th>\n",
       "      <td>18</td>\n",
       "      <td>male</td>\n",
       "      <td>33.770</td>\n",
       "      <td>1</td>\n",
       "      <td>no</td>\n",
       "      <td>southeast</td>\n",
       "      <td>1725.55230</td>\n",
       "    </tr>\n",
       "    <tr>\n",
       "      <th>2</th>\n",
       "      <td>28</td>\n",
       "      <td>male</td>\n",
       "      <td>33.000</td>\n",
       "      <td>3</td>\n",
       "      <td>no</td>\n",
       "      <td>southeast</td>\n",
       "      <td>4449.46200</td>\n",
       "    </tr>\n",
       "    <tr>\n",
       "      <th>3</th>\n",
       "      <td>33</td>\n",
       "      <td>male</td>\n",
       "      <td>22.705</td>\n",
       "      <td>0</td>\n",
       "      <td>no</td>\n",
       "      <td>northwest</td>\n",
       "      <td>21984.47061</td>\n",
       "    </tr>\n",
       "    <tr>\n",
       "      <th>4</th>\n",
       "      <td>32</td>\n",
       "      <td>male</td>\n",
       "      <td>28.880</td>\n",
       "      <td>0</td>\n",
       "      <td>no</td>\n",
       "      <td>northwest</td>\n",
       "      <td>3866.85520</td>\n",
       "    </tr>\n",
       "  </tbody>\n",
       "</table>\n",
       "</div>"
      ],
      "text/plain": [
       "   age     sex     bmi  children smoker     region      charges\n",
       "0   19  female  27.900         0    yes  southwest  16884.92400\n",
       "1   18    male  33.770         1     no  southeast   1725.55230\n",
       "2   28    male  33.000         3     no  southeast   4449.46200\n",
       "3   33    male  22.705         0     no  northwest  21984.47061\n",
       "4   32    male  28.880         0     no  northwest   3866.85520"
      ]
     },
     "execution_count": 4,
     "metadata": {},
     "output_type": "execute_result"
    }
   ],
   "source": [
    "df.head()"
   ]
  },
  {
   "cell_type": "markdown",
   "id": "16a3e2c0",
   "metadata": {},
   "source": [
    "# Label Encoding"
   ]
  },
  {
   "cell_type": "code",
   "execution_count": 5,
   "id": "97c444ce",
   "metadata": {},
   "outputs": [],
   "source": [
    "from sklearn.preprocessing import LabelEncoder"
   ]
  },
  {
   "cell_type": "code",
   "execution_count": 6,
   "id": "6d9e7043",
   "metadata": {},
   "outputs": [],
   "source": [
    "le = LabelEncoder()"
   ]
  },
  {
   "cell_type": "code",
   "execution_count": 7,
   "id": "0e3b649c",
   "metadata": {},
   "outputs": [
    {
     "data": {
      "text/plain": [
       "Index(['age', 'sex', 'bmi', 'children', 'smoker', 'region', 'charges'], dtype='object')"
      ]
     },
     "execution_count": 7,
     "metadata": {},
     "output_type": "execute_result"
    }
   ],
   "source": [
    "df.columns"
   ]
  },
  {
   "cell_type": "code",
   "execution_count": 8,
   "id": "f35fc580",
   "metadata": {},
   "outputs": [],
   "source": [
    "for col in df.columns:\n",
    "    if df[col].dtype == np.number:\n",
    "        continue\n",
    "    else:\n",
    "        df[col] = le.fit_transform(df[col])"
   ]
  },
  {
   "cell_type": "code",
   "execution_count": 9,
   "id": "85120d33",
   "metadata": {},
   "outputs": [
    {
     "data": {
      "text/html": [
       "<div>\n",
       "<style scoped>\n",
       "    .dataframe tbody tr th:only-of-type {\n",
       "        vertical-align: middle;\n",
       "    }\n",
       "\n",
       "    .dataframe tbody tr th {\n",
       "        vertical-align: top;\n",
       "    }\n",
       "\n",
       "    .dataframe thead th {\n",
       "        text-align: right;\n",
       "    }\n",
       "</style>\n",
       "<table border=\"1\" class=\"dataframe\">\n",
       "  <thead>\n",
       "    <tr style=\"text-align: right;\">\n",
       "      <th></th>\n",
       "      <th>age</th>\n",
       "      <th>sex</th>\n",
       "      <th>bmi</th>\n",
       "      <th>children</th>\n",
       "      <th>smoker</th>\n",
       "      <th>region</th>\n",
       "      <th>charges</th>\n",
       "    </tr>\n",
       "  </thead>\n",
       "  <tbody>\n",
       "    <tr>\n",
       "      <th>0</th>\n",
       "      <td>1</td>\n",
       "      <td>0</td>\n",
       "      <td>27.900</td>\n",
       "      <td>0</td>\n",
       "      <td>1</td>\n",
       "      <td>3</td>\n",
       "      <td>16884.92400</td>\n",
       "    </tr>\n",
       "    <tr>\n",
       "      <th>1</th>\n",
       "      <td>0</td>\n",
       "      <td>1</td>\n",
       "      <td>33.770</td>\n",
       "      <td>1</td>\n",
       "      <td>0</td>\n",
       "      <td>2</td>\n",
       "      <td>1725.55230</td>\n",
       "    </tr>\n",
       "    <tr>\n",
       "      <th>2</th>\n",
       "      <td>10</td>\n",
       "      <td>1</td>\n",
       "      <td>33.000</td>\n",
       "      <td>3</td>\n",
       "      <td>0</td>\n",
       "      <td>2</td>\n",
       "      <td>4449.46200</td>\n",
       "    </tr>\n",
       "    <tr>\n",
       "      <th>3</th>\n",
       "      <td>15</td>\n",
       "      <td>1</td>\n",
       "      <td>22.705</td>\n",
       "      <td>0</td>\n",
       "      <td>0</td>\n",
       "      <td>1</td>\n",
       "      <td>21984.47061</td>\n",
       "    </tr>\n",
       "    <tr>\n",
       "      <th>4</th>\n",
       "      <td>14</td>\n",
       "      <td>1</td>\n",
       "      <td>28.880</td>\n",
       "      <td>0</td>\n",
       "      <td>0</td>\n",
       "      <td>1</td>\n",
       "      <td>3866.85520</td>\n",
       "    </tr>\n",
       "  </tbody>\n",
       "</table>\n",
       "</div>"
      ],
      "text/plain": [
       "   age  sex     bmi  children  smoker  region      charges\n",
       "0    1    0  27.900         0       1       3  16884.92400\n",
       "1    0    1  33.770         1       0       2   1725.55230\n",
       "2   10    1  33.000         3       0       2   4449.46200\n",
       "3   15    1  22.705         0       0       1  21984.47061\n",
       "4   14    1  28.880         0       0       1   3866.85520"
      ]
     },
     "execution_count": 9,
     "metadata": {},
     "output_type": "execute_result"
    }
   ],
   "source": [
    "df.head()"
   ]
  },
  {
   "cell_type": "markdown",
   "id": "888b10d6",
   "metadata": {},
   "source": [
    "# Scaling with Normalization and Fit and Transform"
   ]
  },
  {
   "cell_type": "code",
   "execution_count": 10,
   "id": "52a15c33",
   "metadata": {},
   "outputs": [],
   "source": [
    "from sklearn.preprocessing import MinMaxScaler\n",
    "norm_scaler = MinMaxScaler()"
   ]
  },
  {
   "cell_type": "code",
   "execution_count": 11,
   "id": "743034f9",
   "metadata": {},
   "outputs": [
    {
     "data": {
      "text/plain": [
       "Index(['age', 'sex', 'bmi', 'children', 'smoker', 'region', 'charges'], dtype='object')"
      ]
     },
     "execution_count": 11,
     "metadata": {},
     "output_type": "execute_result"
    }
   ],
   "source": [
    "df.columns"
   ]
  },
  {
   "cell_type": "code",
   "execution_count": 12,
   "id": "bf3ce714",
   "metadata": {},
   "outputs": [],
   "source": [
    "bmi = norm_scaler.fit(df[['bmi']])"
   ]
  },
  {
   "cell_type": "code",
   "execution_count": 13,
   "id": "b5833960",
   "metadata": {},
   "outputs": [
    {
     "data": {
      "text/plain": [
       "MinMaxScaler()"
      ]
     },
     "execution_count": 13,
     "metadata": {},
     "output_type": "execute_result"
    }
   ],
   "source": [
    "bmi"
   ]
  },
  {
   "cell_type": "code",
   "execution_count": 14,
   "id": "d6ef0256",
   "metadata": {},
   "outputs": [
    {
     "data": {
      "text/html": [
       "<div>\n",
       "<style scoped>\n",
       "    .dataframe tbody tr th:only-of-type {\n",
       "        vertical-align: middle;\n",
       "    }\n",
       "\n",
       "    .dataframe tbody tr th {\n",
       "        vertical-align: top;\n",
       "    }\n",
       "\n",
       "    .dataframe thead th {\n",
       "        text-align: right;\n",
       "    }\n",
       "</style>\n",
       "<table border=\"1\" class=\"dataframe\">\n",
       "  <thead>\n",
       "    <tr style=\"text-align: right;\">\n",
       "      <th></th>\n",
       "      <th>age</th>\n",
       "      <th>sex</th>\n",
       "      <th>bmi</th>\n",
       "      <th>children</th>\n",
       "      <th>smoker</th>\n",
       "      <th>region</th>\n",
       "      <th>charges</th>\n",
       "    </tr>\n",
       "  </thead>\n",
       "  <tbody>\n",
       "    <tr>\n",
       "      <th>0</th>\n",
       "      <td>1</td>\n",
       "      <td>0</td>\n",
       "      <td>27.900</td>\n",
       "      <td>0</td>\n",
       "      <td>1</td>\n",
       "      <td>3</td>\n",
       "      <td>16884.92400</td>\n",
       "    </tr>\n",
       "    <tr>\n",
       "      <th>1</th>\n",
       "      <td>0</td>\n",
       "      <td>1</td>\n",
       "      <td>33.770</td>\n",
       "      <td>1</td>\n",
       "      <td>0</td>\n",
       "      <td>2</td>\n",
       "      <td>1725.55230</td>\n",
       "    </tr>\n",
       "    <tr>\n",
       "      <th>2</th>\n",
       "      <td>10</td>\n",
       "      <td>1</td>\n",
       "      <td>33.000</td>\n",
       "      <td>3</td>\n",
       "      <td>0</td>\n",
       "      <td>2</td>\n",
       "      <td>4449.46200</td>\n",
       "    </tr>\n",
       "    <tr>\n",
       "      <th>3</th>\n",
       "      <td>15</td>\n",
       "      <td>1</td>\n",
       "      <td>22.705</td>\n",
       "      <td>0</td>\n",
       "      <td>0</td>\n",
       "      <td>1</td>\n",
       "      <td>21984.47061</td>\n",
       "    </tr>\n",
       "    <tr>\n",
       "      <th>4</th>\n",
       "      <td>14</td>\n",
       "      <td>1</td>\n",
       "      <td>28.880</td>\n",
       "      <td>0</td>\n",
       "      <td>0</td>\n",
       "      <td>1</td>\n",
       "      <td>3866.85520</td>\n",
       "    </tr>\n",
       "  </tbody>\n",
       "</table>\n",
       "</div>"
      ],
      "text/plain": [
       "   age  sex     bmi  children  smoker  region      charges\n",
       "0    1    0  27.900         0       1       3  16884.92400\n",
       "1    0    1  33.770         1       0       2   1725.55230\n",
       "2   10    1  33.000         3       0       2   4449.46200\n",
       "3   15    1  22.705         0       0       1  21984.47061\n",
       "4   14    1  28.880         0       0       1   3866.85520"
      ]
     },
     "execution_count": 14,
     "metadata": {},
     "output_type": "execute_result"
    }
   ],
   "source": [
    "df.head()"
   ]
  },
  {
   "cell_type": "code",
   "execution_count": 15,
   "id": "fd4f1e34",
   "metadata": {},
   "outputs": [],
   "source": [
    "df['bmi'] = norm_scaler.transform(df[['bmi']])"
   ]
  },
  {
   "cell_type": "code",
   "execution_count": 16,
   "id": "bf7da622",
   "metadata": {},
   "outputs": [
    {
     "data": {
      "text/html": [
       "<div>\n",
       "<style scoped>\n",
       "    .dataframe tbody tr th:only-of-type {\n",
       "        vertical-align: middle;\n",
       "    }\n",
       "\n",
       "    .dataframe tbody tr th {\n",
       "        vertical-align: top;\n",
       "    }\n",
       "\n",
       "    .dataframe thead th {\n",
       "        text-align: right;\n",
       "    }\n",
       "</style>\n",
       "<table border=\"1\" class=\"dataframe\">\n",
       "  <thead>\n",
       "    <tr style=\"text-align: right;\">\n",
       "      <th></th>\n",
       "      <th>age</th>\n",
       "      <th>sex</th>\n",
       "      <th>bmi</th>\n",
       "      <th>children</th>\n",
       "      <th>smoker</th>\n",
       "      <th>region</th>\n",
       "      <th>charges</th>\n",
       "    </tr>\n",
       "  </thead>\n",
       "  <tbody>\n",
       "    <tr>\n",
       "      <th>0</th>\n",
       "      <td>1</td>\n",
       "      <td>0</td>\n",
       "      <td>0.321227</td>\n",
       "      <td>0</td>\n",
       "      <td>1</td>\n",
       "      <td>3</td>\n",
       "      <td>16884.92400</td>\n",
       "    </tr>\n",
       "    <tr>\n",
       "      <th>1</th>\n",
       "      <td>0</td>\n",
       "      <td>1</td>\n",
       "      <td>0.479150</td>\n",
       "      <td>1</td>\n",
       "      <td>0</td>\n",
       "      <td>2</td>\n",
       "      <td>1725.55230</td>\n",
       "    </tr>\n",
       "    <tr>\n",
       "      <th>2</th>\n",
       "      <td>10</td>\n",
       "      <td>1</td>\n",
       "      <td>0.458434</td>\n",
       "      <td>3</td>\n",
       "      <td>0</td>\n",
       "      <td>2</td>\n",
       "      <td>4449.46200</td>\n",
       "    </tr>\n",
       "    <tr>\n",
       "      <th>3</th>\n",
       "      <td>15</td>\n",
       "      <td>1</td>\n",
       "      <td>0.181464</td>\n",
       "      <td>0</td>\n",
       "      <td>0</td>\n",
       "      <td>1</td>\n",
       "      <td>21984.47061</td>\n",
       "    </tr>\n",
       "    <tr>\n",
       "      <th>4</th>\n",
       "      <td>14</td>\n",
       "      <td>1</td>\n",
       "      <td>0.347592</td>\n",
       "      <td>0</td>\n",
       "      <td>0</td>\n",
       "      <td>1</td>\n",
       "      <td>3866.85520</td>\n",
       "    </tr>\n",
       "  </tbody>\n",
       "</table>\n",
       "</div>"
      ],
      "text/plain": [
       "   age  sex       bmi  children  smoker  region      charges\n",
       "0    1    0  0.321227         0       1       3  16884.92400\n",
       "1    0    1  0.479150         1       0       2   1725.55230\n",
       "2   10    1  0.458434         3       0       2   4449.46200\n",
       "3   15    1  0.181464         0       0       1  21984.47061\n",
       "4   14    1  0.347592         0       0       1   3866.85520"
      ]
     },
     "execution_count": 16,
     "metadata": {},
     "output_type": "execute_result"
    }
   ],
   "source": [
    "df.head()"
   ]
  },
  {
   "cell_type": "markdown",
   "id": "33a347eb",
   "metadata": {},
   "source": [
    "# seperate x,y"
   ]
  },
  {
   "cell_type": "code",
   "execution_count": 17,
   "id": "b4b030e9",
   "metadata": {},
   "outputs": [],
   "source": [
    "x = df.drop('charges', axis = 'columns')"
   ]
  },
  {
   "cell_type": "code",
   "execution_count": 18,
   "id": "e23639ab",
   "metadata": {},
   "outputs": [
    {
     "data": {
      "text/html": [
       "<div>\n",
       "<style scoped>\n",
       "    .dataframe tbody tr th:only-of-type {\n",
       "        vertical-align: middle;\n",
       "    }\n",
       "\n",
       "    .dataframe tbody tr th {\n",
       "        vertical-align: top;\n",
       "    }\n",
       "\n",
       "    .dataframe thead th {\n",
       "        text-align: right;\n",
       "    }\n",
       "</style>\n",
       "<table border=\"1\" class=\"dataframe\">\n",
       "  <thead>\n",
       "    <tr style=\"text-align: right;\">\n",
       "      <th></th>\n",
       "      <th>age</th>\n",
       "      <th>sex</th>\n",
       "      <th>bmi</th>\n",
       "      <th>children</th>\n",
       "      <th>smoker</th>\n",
       "      <th>region</th>\n",
       "    </tr>\n",
       "  </thead>\n",
       "  <tbody>\n",
       "    <tr>\n",
       "      <th>0</th>\n",
       "      <td>1</td>\n",
       "      <td>0</td>\n",
       "      <td>0.321227</td>\n",
       "      <td>0</td>\n",
       "      <td>1</td>\n",
       "      <td>3</td>\n",
       "    </tr>\n",
       "    <tr>\n",
       "      <th>1</th>\n",
       "      <td>0</td>\n",
       "      <td>1</td>\n",
       "      <td>0.479150</td>\n",
       "      <td>1</td>\n",
       "      <td>0</td>\n",
       "      <td>2</td>\n",
       "    </tr>\n",
       "    <tr>\n",
       "      <th>2</th>\n",
       "      <td>10</td>\n",
       "      <td>1</td>\n",
       "      <td>0.458434</td>\n",
       "      <td>3</td>\n",
       "      <td>0</td>\n",
       "      <td>2</td>\n",
       "    </tr>\n",
       "    <tr>\n",
       "      <th>3</th>\n",
       "      <td>15</td>\n",
       "      <td>1</td>\n",
       "      <td>0.181464</td>\n",
       "      <td>0</td>\n",
       "      <td>0</td>\n",
       "      <td>1</td>\n",
       "    </tr>\n",
       "    <tr>\n",
       "      <th>4</th>\n",
       "      <td>14</td>\n",
       "      <td>1</td>\n",
       "      <td>0.347592</td>\n",
       "      <td>0</td>\n",
       "      <td>0</td>\n",
       "      <td>1</td>\n",
       "    </tr>\n",
       "    <tr>\n",
       "      <th>...</th>\n",
       "      <td>...</td>\n",
       "      <td>...</td>\n",
       "      <td>...</td>\n",
       "      <td>...</td>\n",
       "      <td>...</td>\n",
       "      <td>...</td>\n",
       "    </tr>\n",
       "    <tr>\n",
       "      <th>1333</th>\n",
       "      <td>32</td>\n",
       "      <td>1</td>\n",
       "      <td>0.403820</td>\n",
       "      <td>3</td>\n",
       "      <td>0</td>\n",
       "      <td>1</td>\n",
       "    </tr>\n",
       "    <tr>\n",
       "      <th>1334</th>\n",
       "      <td>0</td>\n",
       "      <td>0</td>\n",
       "      <td>0.429379</td>\n",
       "      <td>0</td>\n",
       "      <td>0</td>\n",
       "      <td>0</td>\n",
       "    </tr>\n",
       "    <tr>\n",
       "      <th>1335</th>\n",
       "      <td>0</td>\n",
       "      <td>0</td>\n",
       "      <td>0.562012</td>\n",
       "      <td>0</td>\n",
       "      <td>0</td>\n",
       "      <td>2</td>\n",
       "    </tr>\n",
       "    <tr>\n",
       "      <th>1336</th>\n",
       "      <td>3</td>\n",
       "      <td>0</td>\n",
       "      <td>0.264730</td>\n",
       "      <td>0</td>\n",
       "      <td>0</td>\n",
       "      <td>3</td>\n",
       "    </tr>\n",
       "    <tr>\n",
       "      <th>1337</th>\n",
       "      <td>43</td>\n",
       "      <td>0</td>\n",
       "      <td>0.352704</td>\n",
       "      <td>0</td>\n",
       "      <td>1</td>\n",
       "      <td>1</td>\n",
       "    </tr>\n",
       "  </tbody>\n",
       "</table>\n",
       "<p>1338 rows × 6 columns</p>\n",
       "</div>"
      ],
      "text/plain": [
       "      age  sex       bmi  children  smoker  region\n",
       "0       1    0  0.321227         0       1       3\n",
       "1       0    1  0.479150         1       0       2\n",
       "2      10    1  0.458434         3       0       2\n",
       "3      15    1  0.181464         0       0       1\n",
       "4      14    1  0.347592         0       0       1\n",
       "...   ...  ...       ...       ...     ...     ...\n",
       "1333   32    1  0.403820         3       0       1\n",
       "1334    0    0  0.429379         0       0       0\n",
       "1335    0    0  0.562012         0       0       2\n",
       "1336    3    0  0.264730         0       0       3\n",
       "1337   43    0  0.352704         0       1       1\n",
       "\n",
       "[1338 rows x 6 columns]"
      ]
     },
     "execution_count": 18,
     "metadata": {},
     "output_type": "execute_result"
    }
   ],
   "source": [
    "x"
   ]
  },
  {
   "cell_type": "code",
   "execution_count": 19,
   "id": "daaa75af",
   "metadata": {},
   "outputs": [],
   "source": [
    "y = df['charges']"
   ]
  },
  {
   "cell_type": "code",
   "execution_count": 20,
   "id": "aa5c293b",
   "metadata": {},
   "outputs": [
    {
     "data": {
      "text/plain": [
       "0       16884.92400\n",
       "1        1725.55230\n",
       "2        4449.46200\n",
       "3       21984.47061\n",
       "4        3866.85520\n",
       "           ...     \n",
       "1333    10600.54830\n",
       "1334     2205.98080\n",
       "1335     1629.83350\n",
       "1336     2007.94500\n",
       "1337    29141.36030\n",
       "Name: charges, Length: 1338, dtype: float64"
      ]
     },
     "execution_count": 20,
     "metadata": {},
     "output_type": "execute_result"
    }
   ],
   "source": [
    "y"
   ]
  },
  {
   "cell_type": "code",
   "execution_count": 21,
   "id": "9f2ba8f4",
   "metadata": {},
   "outputs": [],
   "source": [
    "x_train, x_test, y_train, y_test = tts(x,y,test_size=.30,random_state = 23)"
   ]
  },
  {
   "cell_type": "code",
   "execution_count": 22,
   "id": "60d89861",
   "metadata": {},
   "outputs": [
    {
     "data": {
      "text/html": [
       "<div>\n",
       "<style scoped>\n",
       "    .dataframe tbody tr th:only-of-type {\n",
       "        vertical-align: middle;\n",
       "    }\n",
       "\n",
       "    .dataframe tbody tr th {\n",
       "        vertical-align: top;\n",
       "    }\n",
       "\n",
       "    .dataframe thead th {\n",
       "        text-align: right;\n",
       "    }\n",
       "</style>\n",
       "<table border=\"1\" class=\"dataframe\">\n",
       "  <thead>\n",
       "    <tr style=\"text-align: right;\">\n",
       "      <th></th>\n",
       "      <th>age</th>\n",
       "      <th>sex</th>\n",
       "      <th>bmi</th>\n",
       "      <th>children</th>\n",
       "      <th>smoker</th>\n",
       "      <th>region</th>\n",
       "    </tr>\n",
       "  </thead>\n",
       "  <tbody>\n",
       "    <tr>\n",
       "      <th>923</th>\n",
       "      <td>16</td>\n",
       "      <td>1</td>\n",
       "      <td>0.534167</td>\n",
       "      <td>0</td>\n",
       "      <td>0</td>\n",
       "      <td>1</td>\n",
       "    </tr>\n",
       "    <tr>\n",
       "      <th>1121</th>\n",
       "      <td>28</td>\n",
       "      <td>1</td>\n",
       "      <td>0.597525</td>\n",
       "      <td>2</td>\n",
       "      <td>0</td>\n",
       "      <td>2</td>\n",
       "    </tr>\n",
       "    <tr>\n",
       "      <th>713</th>\n",
       "      <td>2</td>\n",
       "      <td>1</td>\n",
       "      <td>0.659403</td>\n",
       "      <td>0</td>\n",
       "      <td>0</td>\n",
       "      <td>0</td>\n",
       "    </tr>\n",
       "    <tr>\n",
       "      <th>552</th>\n",
       "      <td>44</td>\n",
       "      <td>1</td>\n",
       "      <td>0.146355</td>\n",
       "      <td>0</td>\n",
       "      <td>0</td>\n",
       "      <td>3</td>\n",
       "    </tr>\n",
       "    <tr>\n",
       "      <th>738</th>\n",
       "      <td>5</td>\n",
       "      <td>1</td>\n",
       "      <td>0.424267</td>\n",
       "      <td>3</td>\n",
       "      <td>1</td>\n",
       "      <td>0</td>\n",
       "    </tr>\n",
       "  </tbody>\n",
       "</table>\n",
       "</div>"
      ],
      "text/plain": [
       "      age  sex       bmi  children  smoker  region\n",
       "923    16    1  0.534167         0       0       1\n",
       "1121   28    1  0.597525         2       0       2\n",
       "713     2    1  0.659403         0       0       0\n",
       "552    44    1  0.146355         0       0       3\n",
       "738     5    1  0.424267         3       1       0"
      ]
     },
     "execution_count": 22,
     "metadata": {},
     "output_type": "execute_result"
    }
   ],
   "source": [
    "x_train.head()"
   ]
  },
  {
   "cell_type": "code",
   "execution_count": 23,
   "id": "be9ea301",
   "metadata": {},
   "outputs": [
    {
     "data": {
      "text/plain": [
       "923      4320.41085\n",
       "1121     8347.16430\n",
       "713      1984.45330\n",
       "552     12957.11800\n",
       "738     36189.10170\n",
       "Name: charges, dtype: float64"
      ]
     },
     "execution_count": 23,
     "metadata": {},
     "output_type": "execute_result"
    }
   ],
   "source": [
    "y_train.head()"
   ]
  },
  {
   "cell_type": "code",
   "execution_count": 24,
   "id": "2c7cb53d",
   "metadata": {},
   "outputs": [
    {
     "data": {
      "text/plain": [
       "(936, 6)"
      ]
     },
     "execution_count": 24,
     "metadata": {},
     "output_type": "execute_result"
    }
   ],
   "source": [
    "x_train.shape"
   ]
  },
  {
   "cell_type": "markdown",
   "id": "a0f68d51",
   "metadata": {},
   "source": [
    "# Multiple Linear Regression"
   ]
  },
  {
   "cell_type": "code",
   "execution_count": 25,
   "id": "bd0085b9",
   "metadata": {},
   "outputs": [],
   "source": [
    "mult_reg = LinearRegression() #create object"
   ]
  },
  {
   "cell_type": "code",
   "execution_count": 26,
   "id": "1a1eb0e0",
   "metadata": {},
   "outputs": [
    {
     "data": {
      "text/plain": [
       "LinearRegression()"
      ]
     },
     "execution_count": 26,
     "metadata": {},
     "output_type": "execute_result"
    }
   ],
   "source": [
    "mult_reg.fit(x_train, y_train) #traning all calculation"
   ]
  },
  {
   "cell_type": "code",
   "execution_count": 27,
   "id": "5f25367c",
   "metadata": {},
   "outputs": [
    {
     "data": {
      "text/plain": [
       "array([  245.94487173,  -173.89871781, 12962.63854787,   546.84795959,\n",
       "       24234.33665543,  -524.00517078])"
      ]
     },
     "execution_count": 27,
     "metadata": {},
     "output_type": "execute_result"
    }
   ],
   "source": [
    "m = mult_reg.coef_\n",
    "m"
   ]
  },
  {
   "cell_type": "code",
   "execution_count": 28,
   "id": "69ad428d",
   "metadata": {},
   "outputs": [
    {
     "data": {
      "text/plain": [
       "-1783.0003086670604"
      ]
     },
     "execution_count": 28,
     "metadata": {},
     "output_type": "execute_result"
    }
   ],
   "source": [
    "c = mult_reg.intercept_\n",
    "c"
   ]
  },
  {
   "cell_type": "code",
   "execution_count": 29,
   "id": "4a9f1a55",
   "metadata": {},
   "outputs": [
    {
     "data": {
      "text/plain": [
       "array([ 1.14891823e+04,  6.40909856e+03,  3.16603449e+04,  1.00628632e+04,\n",
       "        8.10876223e+03,  9.37157925e+03,  3.58055813e+04,  8.45771081e+03,\n",
       "        1.29944467e+04,  3.96966715e+04,  1.57050470e+03,  3.70507718e+04,\n",
       "        4.23657419e+03,  1.23385786e+04,  8.12482192e+03,  5.08395167e+03,\n",
       "        5.35402656e+03,  3.53259179e+03,  3.54168239e+04,  3.32162171e+04,\n",
       "        3.89611414e+04,  1.35122961e+04,  8.16992141e+03,  9.70512987e+03,\n",
       "        3.59253106e+04,  7.03079293e+03,  5.24782428e+03,  2.93211582e+04,\n",
       "        5.51087549e+02,  1.13129683e+04,  1.36495384e+04,  4.93242756e+03,\n",
       "        3.86648203e+03,  1.19644550e+04,  8.95700850e+03,  2.92567495e+04,\n",
       "        1.12024047e+04,  1.06305280e+04,  9.76292042e+03,  4.46165136e+03,\n",
       "        1.08676803e+04,  3.42958650e+04,  1.12233816e+04,  3.19061467e+04,\n",
       "        1.13116850e+04,  1.35173352e+04,  4.40133325e+03,  5.43935233e+03,\n",
       "        8.70107859e+03,  5.32477050e+03,  1.34567243e+04,  8.96597805e+03,\n",
       "        1.03461062e+04,  5.66565661e+03,  6.32216799e+03,  1.45681041e+04,\n",
       "        1.43053043e+04,  1.19965535e+04,  7.54612360e+03,  2.79045131e+04,\n",
       "        2.98158308e+04,  5.88056983e+03,  3.43630489e+03,  6.22323014e+03,\n",
       "        3.28259801e+03,  6.75215595e+03,  4.95284979e+03,  4.43369919e+03,\n",
       "        4.17796538e+03,  2.48455499e+04,  7.38288343e+03,  3.45859496e+04,\n",
       "        8.58012321e+03,  3.10172901e+04,  2.36902657e+03,  5.87644415e+03,\n",
       "        1.01178214e+04,  4.13369293e+03,  6.71370180e+03,  4.39835117e+03,\n",
       "        1.25443036e+04,  3.57107855e+03,  3.08399494e+04,  1.54931000e+04,\n",
       "        6.89983043e+03,  9.72197852e+03,  1.68596416e+04,  3.84878995e+04,\n",
       "        2.72372582e+03,  3.60303582e+04,  7.18930883e+03,  1.20354859e+04,\n",
       "        1.10829928e+03,  1.00168576e+04,  3.62910159e+04,  5.41374837e+02,\n",
       "        1.90631947e+03,  5.01808853e+03,  2.84773590e+04, -1.94381088e+03,\n",
       "        1.14682231e+04,  6.75381640e+03,  5.79245115e+02,  8.73960729e+03,\n",
       "        1.17692862e+04,  9.80274202e+03,  8.64823118e+03,  1.77609349e+03,\n",
       "        4.27511761e+03,  7.71638562e+03,  2.62363469e+04,  1.00301131e+04,\n",
       "        7.03760033e+03,  9.91071866e+03,  1.25175380e+04,  4.58986813e+03,\n",
       "        4.06412697e+04,  1.44153459e+04,  2.98415678e+04,  4.63124592e+03,\n",
       "        1.14444438e+04,  1.07677602e+04,  1.01704570e+04,  5.31681576e+03,\n",
       "        3.35665319e+03,  2.07352931e+03,  3.25047895e+03,  3.40991235e+04,\n",
       "        9.51642457e+03,  2.74013380e+04,  3.35398778e+04,  7.76355399e+02,\n",
       "        1.07196683e+04,  5.40418222e+03,  9.35364015e+03,  4.82117881e+02,\n",
       "        2.79577198e+03,  1.02966302e+04,  2.17997848e+03,  2.70939974e+03,\n",
       "        1.36171657e+04,  1.64856431e+04,  1.63661406e+04,  1.08142783e+04,\n",
       "        8.26139175e+03,  6.88337592e+03,  3.69124243e+04,  5.15444587e+03,\n",
       "        2.61284932e+02,  6.96280154e+03,  1.07793830e+04,  1.44667966e+04,\n",
       "        4.03880761e+03,  1.14331415e+04,  2.57900932e+04,  2.89687888e+03,\n",
       "        3.86664205e+03,  8.16257952e+03,  7.22882066e+03,  6.09866759e+03,\n",
       "        3.75525825e+03,  6.04803047e+03,  8.29989229e+01,  1.43926676e+04,\n",
       "        9.34512344e+03,  6.72477683e+03,  3.43345574e+04,  3.77013530e+03,\n",
       "        1.46750808e+03,  1.03864454e+04,  2.53431230e+03,  1.37689716e+04,\n",
       "        3.05269170e+03,  4.61749857e+03,  3.88331873e+03,  7.16297105e+03,\n",
       "        1.03181160e+04,  5.32605427e+03,  1.21287566e+04,  6.69833866e+03,\n",
       "        9.57975916e+03,  7.95824969e+03,  3.38111137e+04,  8.14413180e+02,\n",
       "        1.20453377e+04,  1.30328081e+04,  2.02263445e+03,  1.06063673e+04,\n",
       "        2.38349568e+04,  2.67999132e+04,  1.19561901e+04,  3.42277386e+04,\n",
       "        1.24349285e+04,  7.40324627e+03,  6.59219653e+03,  3.38712474e+04,\n",
       "        9.16511431e+03,  9.65978391e+03,  1.07681713e+04,  1.13134562e+04,\n",
       "        2.67891087e+04,  3.23081385e+04, -1.01334973e+03,  3.49652168e+03,\n",
       "        6.66465109e+03,  3.87105097e+03,  3.06853807e+04,  1.06191615e+04,\n",
       "        3.26752624e+04,  1.25947940e+04,  2.64542709e+04,  5.78179686e+03,\n",
       "        7.18262954e+03,  4.95740127e+03,  7.62462964e+03,  2.83275029e+04,\n",
       "        2.64802060e+04,  6.31932874e+03,  1.05103205e+04,  1.39624726e+04,\n",
       "        1.59134596e+04,  1.60854240e+04,  7.16167715e+03,  3.23709642e+04,\n",
       "        5.69799076e+03,  1.07276479e+04,  5.40687716e+03,  1.32224525e+04,\n",
       "        1.71748050e+03,  1.90729304e+04,  2.88592576e+04,  2.72059788e+04,\n",
       "        7.64206910e+03,  4.30746247e+03,  3.88223150e+03,  8.32276005e+03,\n",
       "        8.67950972e+03,  7.86838489e+03,  5.64335353e+03,  3.53493580e+04,\n",
       "        2.53602728e+03,  9.03365704e+03,  1.11261869e+04,  1.60813147e+04,\n",
       "        1.03187210e+04,  1.01536827e+04,  2.99259877e+04,  5.35380616e+03,\n",
       "        9.80789429e+03,  3.99594828e+03,  4.94738019e+02,  1.15592931e+04,\n",
       "        6.66520843e+03,  4.36755782e+03,  7.68259574e+03,  2.82406639e+04,\n",
       "        1.29057413e+04,  1.10945282e+04,  7.12422319e+03,  3.44659804e+04,\n",
       "        1.09129639e+04,  3.63394136e+04,  1.12088175e+04,  3.30185244e+04,\n",
       "        4.71943987e+03,  3.09381712e+04,  1.51247415e+04, -1.14659999e+03,\n",
       "        8.12375215e+03,  1.30131417e+04,  5.66954773e+03,  7.57341361e+03,\n",
       "        1.89820108e+03,  1.32365334e+04,  2.80123401e+03, -2.00145661e+02,\n",
       "        8.89534501e+03,  7.69439762e+03,  3.16247220e+04,  3.07438238e+04,\n",
       "        3.45718095e+03,  8.63489446e+03,  6.56078987e+03,  8.77333830e+03,\n",
       "        2.52892126e+04,  3.69052163e+03,  1.13452543e+04,  5.74911574e+03,\n",
       "        7.72897855e+03,  2.91710573e+04,  6.40870692e+03,  7.70352718e+03,\n",
       "        2.96743202e+04,  7.64043363e+03,  8.41567989e+01,  2.93943150e+03,\n",
       "        1.06857822e+04,  8.70264755e+03,  3.14778241e+03,  7.40776246e+03,\n",
       "        7.75599836e+03,  1.18858536e+04,  7.20858789e+03,  1.44740213e+04,\n",
       "        9.72592929e+03,  9.48729078e+03,  1.94021344e+03,  1.47010726e+04,\n",
       "        1.43353450e+04,  1.56728132e+04,  8.72866752e+03,  1.54593528e+04,\n",
       "        3.53899016e+04,  7.15247766e+03, -1.70487564e+03,  6.00845976e+03,\n",
       "        2.98294439e+03,  6.73900178e+03,  2.55172566e+04,  2.70937297e+04,\n",
       "        1.02446658e+04,  1.01045762e+04,  2.75834595e+03,  8.78614639e+03,\n",
       "        5.34998083e+03,  1.01098667e+04,  5.17454711e+03,  8.70393523e+03,\n",
       "        1.00704979e+04,  1.03352470e+04,  3.56051523e+03,  3.41163723e+04,\n",
       "        2.75669821e+04,  4.36282141e+02,  1.20754166e+04,  2.45770084e+03,\n",
       "        2.92796627e+04,  9.33004348e+03,  9.31126114e+03,  3.06334639e+04,\n",
       "        9.22197039e+03, -3.53456663e+01,  9.65121268e+03,  1.26363921e+04,\n",
       "        1.06888131e+04,  1.26542486e+02,  3.01023384e+04,  2.86709615e+03,\n",
       "        8.34781451e+03,  1.09343882e+04,  2.80428021e+04,  1.09697362e+04,\n",
       "        1.22400920e+04,  3.39169634e+04,  3.22176301e+04,  1.84714870e+03,\n",
       "        5.56554617e+03,  6.46439721e+03,  1.19410159e+04,  5.62106272e+03,\n",
       "        8.51208988e+03,  9.97477991e+03,  5.23149590e+03,  7.83699394e+03,\n",
       "        1.02349912e+04,  7.03470612e+03,  6.70888135e+03,  1.40361516e+03,\n",
       "        1.06365859e+04,  3.86361412e+04,  1.28589639e+04,  1.11334169e+04,\n",
       "        1.45108477e+04,  1.34240719e+04,  2.65713491e+04,  1.14401566e+04,\n",
       "        1.91233983e+03,  3.13188769e+04,  3.31597319e+04,  1.36595722e+04,\n",
       "        9.58222121e+03,  3.04013780e+04,  1.13917107e+04,  1.25295314e+04,\n",
       "        1.19781950e+04, -2.07378424e+02,  1.16690171e+04,  1.11748219e+04,\n",
       "        1.30008904e+04,  7.01799319e+03,  1.58464227e+04,  1.28094396e+04,\n",
       "        7.84802454e+03,  5.37249151e+02,  1.11426895e+04,  3.33557298e+04,\n",
       "        3.28294370e+04,  6.01344292e+02,  6.44152375e+03,  2.95944528e+04,\n",
       "        3.16777565e+03,  4.10936849e+03])"
      ]
     },
     "execution_count": 29,
     "metadata": {},
     "output_type": "execute_result"
    }
   ],
   "source": [
    "pred = mult_reg.predict(x_test)\n",
    "pred"
   ]
  },
  {
   "cell_type": "code",
   "execution_count": 30,
   "id": "47f3d806",
   "metadata": {},
   "outputs": [],
   "source": [
    "df ['predicted result'] = mult_reg.predict(x) #column create"
   ]
  },
  {
   "cell_type": "code",
   "execution_count": 31,
   "id": "610e2bcd",
   "metadata": {},
   "outputs": [
    {
     "data": {
      "text/html": [
       "<div>\n",
       "<style scoped>\n",
       "    .dataframe tbody tr th:only-of-type {\n",
       "        vertical-align: middle;\n",
       "    }\n",
       "\n",
       "    .dataframe tbody tr th {\n",
       "        vertical-align: top;\n",
       "    }\n",
       "\n",
       "    .dataframe thead th {\n",
       "        text-align: right;\n",
       "    }\n",
       "</style>\n",
       "<table border=\"1\" class=\"dataframe\">\n",
       "  <thead>\n",
       "    <tr style=\"text-align: right;\">\n",
       "      <th></th>\n",
       "      <th>age</th>\n",
       "      <th>sex</th>\n",
       "      <th>bmi</th>\n",
       "      <th>children</th>\n",
       "      <th>smoker</th>\n",
       "      <th>region</th>\n",
       "      <th>charges</th>\n",
       "      <th>predicted result</th>\n",
       "    </tr>\n",
       "  </thead>\n",
       "  <tbody>\n",
       "    <tr>\n",
       "      <th>0</th>\n",
       "      <td>1</td>\n",
       "      <td>0</td>\n",
       "      <td>0.321227</td>\n",
       "      <td>0</td>\n",
       "      <td>1</td>\n",
       "      <td>3</td>\n",
       "      <td>16884.92400</td>\n",
       "      <td>25289.212552</td>\n",
       "    </tr>\n",
       "    <tr>\n",
       "      <th>1</th>\n",
       "      <td>0</td>\n",
       "      <td>1</td>\n",
       "      <td>0.479150</td>\n",
       "      <td>1</td>\n",
       "      <td>0</td>\n",
       "      <td>2</td>\n",
       "      <td>1725.55230</td>\n",
       "      <td>3752.984934</td>\n",
       "    </tr>\n",
       "    <tr>\n",
       "      <th>2</th>\n",
       "      <td>10</td>\n",
       "      <td>1</td>\n",
       "      <td>0.458434</td>\n",
       "      <td>3</td>\n",
       "      <td>0</td>\n",
       "      <td>2</td>\n",
       "      <td>4449.46200</td>\n",
       "      <td>7037.600335</td>\n",
       "    </tr>\n",
       "    <tr>\n",
       "      <th>3</th>\n",
       "      <td>15</td>\n",
       "      <td>1</td>\n",
       "      <td>0.181464</td>\n",
       "      <td>0</td>\n",
       "      <td>0</td>\n",
       "      <td>1</td>\n",
       "      <td>21984.47061</td>\n",
       "      <td>3560.515233</td>\n",
       "    </tr>\n",
       "    <tr>\n",
       "      <th>4</th>\n",
       "      <td>14</td>\n",
       "      <td>1</td>\n",
       "      <td>0.347592</td>\n",
       "      <td>0</td>\n",
       "      <td>0</td>\n",
       "      <td>1</td>\n",
       "      <td>3866.85520</td>\n",
       "      <td>5468.035334</td>\n",
       "    </tr>\n",
       "  </tbody>\n",
       "</table>\n",
       "</div>"
      ],
      "text/plain": [
       "   age  sex       bmi  children  smoker  region      charges  predicted result\n",
       "0    1    0  0.321227         0       1       3  16884.92400      25289.212552\n",
       "1    0    1  0.479150         1       0       2   1725.55230       3752.984934\n",
       "2   10    1  0.458434         3       0       2   4449.46200       7037.600335\n",
       "3   15    1  0.181464         0       0       1  21984.47061       3560.515233\n",
       "4   14    1  0.347592         0       0       1   3866.85520       5468.035334"
      ]
     },
     "execution_count": 31,
     "metadata": {},
     "output_type": "execute_result"
    }
   ],
   "source": [
    "df.head()"
   ]
  },
  {
   "cell_type": "code",
   "execution_count": 32,
   "id": "9ddb2e9c",
   "metadata": {},
   "outputs": [],
   "source": [
    "from sklearn.metrics import r2_score\n",
    "li_accuracy=r2_score(y_test,pred)"
   ]
  },
  {
   "cell_type": "code",
   "execution_count": 33,
   "id": "941e5bbd",
   "metadata": {},
   "outputs": [
    {
     "data": {
      "text/plain": [
       "0.7289379757416038"
      ]
     },
     "execution_count": 33,
     "metadata": {},
     "output_type": "execute_result"
    }
   ],
   "source": [
    "mult_reg.score(x_test,y_test)"
   ]
  },
  {
   "cell_type": "markdown",
   "id": "d743a1a2",
   "metadata": {},
   "source": [
    "# Applying KNN Regressor:\n"
   ]
  },
  {
   "cell_type": "code",
   "execution_count": 34,
   "id": "5b067fca",
   "metadata": {},
   "outputs": [],
   "source": [
    "from sklearn.neighbors import KNeighborsRegressor"
   ]
  },
  {
   "cell_type": "code",
   "execution_count": 35,
   "id": "c5db8c56",
   "metadata": {},
   "outputs": [
    {
     "data": {
      "text/plain": [
       "KNeighborsRegressor()"
      ]
     },
     "execution_count": 35,
     "metadata": {},
     "output_type": "execute_result"
    }
   ],
   "source": [
    "neigh = KNeighborsRegressor(n_neighbors=5)\n",
    "neigh.fit(x_train, y_train)"
   ]
  },
  {
   "cell_type": "code",
   "execution_count": 36,
   "id": "b3434d45",
   "metadata": {},
   "outputs": [
    {
     "data": {
      "text/plain": [
       "array([15416.880652,  4602.91354 , 23170.787212,  9586.7114  ,\n",
       "        3127.41257 ,  7045.34044 , 19914.87522 ,  7055.6454  ,\n",
       "       13632.88621 , 30805.101388,  2136.5668  , 25426.14653 ,\n",
       "        2633.80757 , 17141.57761 ,  6089.5634  ,  6771.916254,\n",
       "       13543.99974 ,  2112.43699 , 20108.82362 , 16783.8056  ,\n",
       "       36875.19226 ,  9862.613174,  6284.92212 , 11820.74246 ,\n",
       "       18175.14112 ,  7771.82542 ,  7991.4197  , 27628.895856,\n",
       "        1677.69324 ,  8454.26702 , 14474.6623  ,  6799.176208,\n",
       "        9865.828034, 15626.830752, 12434.2586  , 13488.92336 ,\n",
       "       12476.65159 ,  6872.58064 , 15925.229448,  9489.52239 ,\n",
       "       13657.56672 , 12958.83198 , 10309.88128 , 21621.55807 ,\n",
       "       19025.18152 ,  9388.88108 , 13228.993546, 11276.658552,\n",
       "        8642.3826  ,  9864.273742, 16248.429294,  6590.37354 ,\n",
       "        9802.4752  , 13139.83154 ,  2985.32188 , 12988.12931 ,\n",
       "       10688.02774 ,  8366.92776 , 14280.353884,  8484.2416  ,\n",
       "        9324.349854, 10413.7013  ,  1143.70802 ,  9599.944902,\n",
       "        5220.78471 , 11699.23607 ,  1632.06584 ,  1143.70802 ,\n",
       "        7775.22441 , 14615.387026,  5816.21211 , 24997.554644,\n",
       "        7895.43782 , 22104.82288 ,  1934.2594  ,  9990.046104,\n",
       "       12766.282718,  6855.55064 , 16966.49596 ,  6439.829218,\n",
       "       11592.28763 ,  2156.45833 ,  9661.01106 , 13982.5379  ,\n",
       "        7006.25429 ,  6670.4768  , 20569.91624 , 34258.016478,\n",
       "        2215.29255 , 19848.11884 ,  7747.293168, 11617.13617 ,\n",
       "        2371.04431 ,  7074.20739 , 24992.09712 ,  8446.40618 ,\n",
       "        1631.376   ,  4816.762442, 13182.73604 ,  5615.653266,\n",
       "       12959.56855 ,  5950.24859 ,  8968.67416 ,  9245.16548 ,\n",
       "       20373.69652 , 11878.21157 ,  7949.8302  ,  1779.5166  ,\n",
       "       16912.651652,  6317.41037 , 11239.491796, 10892.419274,\n",
       "       10072.11659 , 10909.0682  , 12380.27076 ,  1631.376   ,\n",
       "       22952.551892, 14156.164506,  9841.75386 ,  9083.891186,\n",
       "       12432.670086,  7204.46678 ,  3247.67087 ,  4968.30195 ,\n",
       "        2239.66713 , 10281.606626,  4552.72743 , 12879.50593 ,\n",
       "        9928.873094, 12072.046872, 10990.922052,  5619.489666,\n",
       "       13761.836   , 12840.45854 ,  5478.01482 , 11465.086374,\n",
       "        4857.397722, 11297.7672  ,  6826.028728,  2083.51484 ,\n",
       "       11596.00256 , 17491.719584, 14217.4812  ,  9782.90422 ,\n",
       "        5309.68442 , 15426.178912, 30373.243654,  1650.78148 ,\n",
       "        4643.961292,  7906.377656, 13757.251534, 10294.33489 ,\n",
       "        2813.0729  , 10430.65868 ,  4985.98053 ,  1707.89576 ,\n",
       "        7392.82586 , 12647.487004, 10211.40308 ,  2661.5494  ,\n",
       "        2671.48054 , 12945.008714,  3083.94158 , 16096.724952,\n",
       "        5490.61961 , 10420.221134, 14953.740314,  4131.60577 ,\n",
       "        2499.50697 ,  9443.388134,  7519.953008, 13162.3184  ,\n",
       "        1143.70802 , 10475.044626,  1865.93388 ,  8454.26702 ,\n",
       "       13144.917074,  9801.300066, 11031.91515 ,  6034.67833 ,\n",
       "       13169.25318 , 10688.02774 , 31124.943866,  2004.3546  ,\n",
       "       19117.05332 , 13632.88621 ,  6299.746538,  7822.58479 ,\n",
       "       14399.638388, 19865.76139 , 11727.73318 , 17745.37086 ,\n",
       "       12648.320942,  6539.6364  ,  6376.56614 , 19051.37919 ,\n",
       "       13429.189192,  9332.60694 ,  8586.27034 , 29455.563678,\n",
       "       14382.76113 , 22898.7942  ,  1625.9224  ,  5619.489666,\n",
       "       10575.021976, 14697.64986 , 10061.1032  , 13186.7478  ,\n",
       "       20200.96632 , 12404.408222, 12786.616158,  4111.73938 ,\n",
       "        7136.19959 ,  3713.543586,  8256.22222 , 19802.867   ,\n",
       "       24766.702586, 10785.107236,  9627.21835 , 17928.50586 ,\n",
       "       13125.1884  , 25533.629902,  6180.582316,  7573.60374 ,\n",
       "        8539.395456,  9789.702064,  4912.77472 , 12331.24821 ,\n",
       "        1741.2124  , 21888.05861 , 11829.9208  , 12119.67315 ,\n",
       "        7053.55234 ,  4142.83598 ,  8420.48216 ,  8777.85674 ,\n",
       "        6214.430784, 14972.297678,  1632.06584 , 26549.81436 ,\n",
       "        3107.42678 ,  9011.57776 ,  5859.27468 , 13442.05058 ,\n",
       "        8436.56635 , 12347.14708 , 32843.056888, 13683.569724,\n",
       "       15371.071202, 13805.51108 ,  1707.89576 ,  8438.19536 ,\n",
       "        6034.67833 ,  4845.64222 ,  5602.63626 , 28682.0933  ,\n",
       "       27329.325372, 11916.91107 , 10198.94321 , 10196.30819 ,\n",
       "       13320.33192 , 19564.969216,  8441.20636 , 13353.11269 ,\n",
       "       12329.524626, 15778.51287 , 18665.31365 ,  3594.46125 ,\n",
       "       11074.45819 , 12507.493024,  4467.29969 ,  7573.60374 ,\n",
       "        2499.50697 , 13604.4015  , 12774.96904 ,  2535.074   ,\n",
       "        7769.88076 ,  5273.8773  , 11644.43695 , 15114.851714,\n",
       "       10761.494906,  9608.1224  ,  5948.22236 ,  5186.40053 ,\n",
       "       10141.9164  ,  3499.02668 ,  5626.8563  ,  5375.20321 ,\n",
       "        3372.97084 , 16629.87737 , 10922.735932, 14815.963624,\n",
       "       11236.40172 ,  4692.8035  ,  1631.376   ,  3041.6851  ,\n",
       "       14849.956524,  8522.06613 ,  5619.489666,  7573.60374 ,\n",
       "        6264.04026 , 15454.10932 , 12921.423542, 17029.486612,\n",
       "       15312.913596, 15658.59834 ,  1143.70802 , 18583.17782 ,\n",
       "       15307.531778, 23464.94041 , 11590.4984  ,  9161.90202 ,\n",
       "       26791.00824 ,  6435.62172 ,  1631.376   ,  4958.73822 ,\n",
       "       10432.19272 ,  7707.28316 , 18860.511376, 10324.929682,\n",
       "       22068.137192, 11998.97918 ,  9773.904086,  5859.27468 ,\n",
       "        9599.032014,  8605.64302 ,  9999.00201 , 17642.3111  ,\n",
       "       12267.069108,  8563.08905 ,  6873.51213 , 20519.784098,\n",
       "       11953.285638,  6826.028728, 12150.11797 ,  3276.98185 ,\n",
       "       16896.57082 , 18708.825028,  8460.65228 , 12871.32096 ,\n",
       "        6935.39311 ,  1704.40964 ,  9307.52343 , 11956.8607  ,\n",
       "        5694.36728 ,  2775.70272 , 14289.124378,  1631.376   ,\n",
       "       11457.56227 , 12191.410996, 22453.86942 , 16512.468494,\n",
       "       28326.57024 , 16999.99167 , 19650.99932 ,  3127.41257 ,\n",
       "        8292.17678 ,  5060.32555 , 17141.57761 ,  6830.34004 ,\n",
       "        6731.6655  ,  5233.80844 ,  2700.05632 , 13425.2994  ,\n",
       "       12154.376266,  6139.36992 , 10387.553448,  1734.9018  ,\n",
       "        5943.81987 , 28511.28886 , 18703.267512, 12096.23124 ,\n",
       "       14045.8732  , 16493.31392 , 23798.85048 , 12053.69155 ,\n",
       "        8135.521654, 13831.18166 , 17647.5297  ,  8313.79559 ,\n",
       "        9156.22757 , 13160.202124, 16512.468494,  6702.7921  ,\n",
       "       12940.67199 ,  8415.130082,  9720.33508 , 15993.647182,\n",
       "       17539.803854,  7707.28316 , 12301.31617 , 13429.189192,\n",
       "        4605.78587 ,  3690.929346, 12880.136712,  9245.34342 ,\n",
       "       16837.838432,  6139.124038,  7217.3632  , 14749.13877 ,\n",
       "        1143.70802 ,  3254.22796 ])"
      ]
     },
     "execution_count": 36,
     "metadata": {},
     "output_type": "execute_result"
    }
   ],
   "source": [
    "knn_pred = neigh.predict(x_test)\n",
    "knn_pred"
   ]
  },
  {
   "cell_type": "code",
   "execution_count": 37,
   "id": "c60253af",
   "metadata": {},
   "outputs": [
    {
     "data": {
      "text/plain": [
       "0.35955946742253453"
      ]
     },
     "execution_count": 37,
     "metadata": {},
     "output_type": "execute_result"
    }
   ],
   "source": [
    "knn_accuracy = r2_score(y_test, knn_pred)\n",
    "knn_accuracy"
   ]
  },
  {
   "cell_type": "code",
   "execution_count": 38,
   "id": "565f24e4",
   "metadata": {},
   "outputs": [
    {
     "data": {
      "text/plain": [
       "83544299.32781714"
      ]
     },
     "execution_count": 38,
     "metadata": {},
     "output_type": "execute_result"
    }
   ],
   "source": [
    "mse = mean_squared_error(y_test, knn_pred)\n",
    "mse"
   ]
  },
  {
   "cell_type": "code",
   "execution_count": 39,
   "id": "5fddc303",
   "metadata": {},
   "outputs": [
    {
     "data": {
      "text/plain": [
       "5612.299497189055"
      ]
     },
     "execution_count": 39,
     "metadata": {},
     "output_type": "execute_result"
    }
   ],
   "source": [
    "mae = mean_absolute_error(y_test, knn_pred)\n",
    "mae"
   ]
  },
  {
   "cell_type": "code",
   "execution_count": 40,
   "id": "f846b8d0",
   "metadata": {},
   "outputs": [],
   "source": [
    "df ['predicted result'] = neigh.predict(x) #column create"
   ]
  },
  {
   "cell_type": "code",
   "execution_count": 41,
   "id": "a4677b6f",
   "metadata": {},
   "outputs": [
    {
     "data": {
      "text/html": [
       "<div>\n",
       "<style scoped>\n",
       "    .dataframe tbody tr th:only-of-type {\n",
       "        vertical-align: middle;\n",
       "    }\n",
       "\n",
       "    .dataframe tbody tr th {\n",
       "        vertical-align: top;\n",
       "    }\n",
       "\n",
       "    .dataframe thead th {\n",
       "        text-align: right;\n",
       "    }\n",
       "</style>\n",
       "<table border=\"1\" class=\"dataframe\">\n",
       "  <thead>\n",
       "    <tr style=\"text-align: right;\">\n",
       "      <th></th>\n",
       "      <th>age</th>\n",
       "      <th>sex</th>\n",
       "      <th>bmi</th>\n",
       "      <th>children</th>\n",
       "      <th>smoker</th>\n",
       "      <th>region</th>\n",
       "      <th>charges</th>\n",
       "      <th>predicted result</th>\n",
       "    </tr>\n",
       "  </thead>\n",
       "  <tbody>\n",
       "    <tr>\n",
       "      <th>0</th>\n",
       "      <td>1</td>\n",
       "      <td>0</td>\n",
       "      <td>0.321227</td>\n",
       "      <td>0</td>\n",
       "      <td>1</td>\n",
       "      <td>3</td>\n",
       "      <td>16884.92400</td>\n",
       "      <td>10141.91640</td>\n",
       "    </tr>\n",
       "    <tr>\n",
       "      <th>1</th>\n",
       "      <td>0</td>\n",
       "      <td>1</td>\n",
       "      <td>0.479150</td>\n",
       "      <td>1</td>\n",
       "      <td>0</td>\n",
       "      <td>2</td>\n",
       "      <td>1725.55230</td>\n",
       "      <td>1720.78182</td>\n",
       "    </tr>\n",
       "    <tr>\n",
       "      <th>2</th>\n",
       "      <td>10</td>\n",
       "      <td>1</td>\n",
       "      <td>0.458434</td>\n",
       "      <td>3</td>\n",
       "      <td>0</td>\n",
       "      <td>2</td>\n",
       "      <td>4449.46200</td>\n",
       "      <td>10072.11659</td>\n",
       "    </tr>\n",
       "    <tr>\n",
       "      <th>3</th>\n",
       "      <td>15</td>\n",
       "      <td>1</td>\n",
       "      <td>0.181464</td>\n",
       "      <td>0</td>\n",
       "      <td>0</td>\n",
       "      <td>1</td>\n",
       "      <td>21984.47061</td>\n",
       "      <td>6873.51213</td>\n",
       "    </tr>\n",
       "    <tr>\n",
       "      <th>4</th>\n",
       "      <td>14</td>\n",
       "      <td>1</td>\n",
       "      <td>0.347592</td>\n",
       "      <td>0</td>\n",
       "      <td>0</td>\n",
       "      <td>1</td>\n",
       "      <td>3866.85520</td>\n",
       "      <td>4222.78960</td>\n",
       "    </tr>\n",
       "  </tbody>\n",
       "</table>\n",
       "</div>"
      ],
      "text/plain": [
       "   age  sex       bmi  children  smoker  region      charges  predicted result\n",
       "0    1    0  0.321227         0       1       3  16884.92400       10141.91640\n",
       "1    0    1  0.479150         1       0       2   1725.55230        1720.78182\n",
       "2   10    1  0.458434         3       0       2   4449.46200       10072.11659\n",
       "3   15    1  0.181464         0       0       1  21984.47061        6873.51213\n",
       "4   14    1  0.347592         0       0       1   3866.85520        4222.78960"
      ]
     },
     "execution_count": 41,
     "metadata": {},
     "output_type": "execute_result"
    }
   ],
   "source": [
    "df.head()"
   ]
  },
  {
   "cell_type": "markdown",
   "id": "1ccb8651",
   "metadata": {},
   "source": [
    "# Bar Graph Compare"
   ]
  },
  {
   "cell_type": "code",
   "execution_count": 42,
   "id": "03635af9",
   "metadata": {},
   "outputs": [
    {
     "data": {
      "image/png": "[encoded data removed]",
      "text/plain": [
       "<Figure size 432x288 with 1 Axes>"
      ]
     },
     "metadata": {
      "needs_background": "light"
     },
     "output_type": "display_data"
    }
   ],
   "source": [
    "import seaborn as sns\n",
    "import matplotlib.pyplot as plt\n",
    "labels = [\"Multiple Linear Regression\",\"KNN Regressor\"]\n",
    "accu = [li_accuracy,knn_accuracy]\n",
    "sns.barplot(x=accu, y=labels)\n",
    "plt.xlabel('Accuracy')\n",
    "plt.ylabel('Algorithm')\n",
    "plt.show()"
   ]
  },
  {
   "cell_type": "code",
   "execution_count": null,
   "id": "9474e768",
   "metadata": {},
   "outputs": [],
   "source": []
  }
 ],
 "metadata": {
  "kernelspec": {
   "display_name": "Python 3 (ipykernel)",
   "language": "python",
   "name": "python3"
  },
  "language_info": {
   "codemirror_mode": {
    "name": "ipython",
    "version": 3
   },
   "file_extension": ".py",
   "mimetype": "text/x-python",
   "name": "python",
   "nbconvert_exporter": "python",
   "pygments_lexer": "ipython3",
   "version": "3.9.12"
  }
 },
 "nbformat": 4,
 "nbformat_minor": 5
}
