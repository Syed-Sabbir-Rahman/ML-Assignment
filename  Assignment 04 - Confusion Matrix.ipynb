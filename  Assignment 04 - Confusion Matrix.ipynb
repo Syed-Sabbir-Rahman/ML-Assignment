{
 "cells": [
  {
   "cell_type": "code",
   "execution_count": 1,
   "id": "c925b680",
   "metadata": {},
   "outputs": [],
   "source": [
    "import pandas as pd #data frame\n",
    "import seaborn as sns #analysis / visualization \n",
    "from matplotlib import pyplot as plt #ploting\n",
    "import numpy as np  #Linear algebra calculation\n",
    "from sklearn.model_selection import train_test_split as tts #data spliting\n",
    "from sklearn.tree import DecisionTreeClassifier #decision tree algoritm \n",
    "from sklearn.metrics import classification_report, accuracy_score, confusion_matrix, roc_curve\n",
    "\n",
    "import warnings as w\n",
    "w.filterwarnings('ignore')"
   ]
  },
  {
   "cell_type": "code",
   "execution_count": 2,
   "id": "f27ae772",
   "metadata": {},
   "outputs": [
    {
     "data": {
      "text/html": [
       "<div>\n",
       "<style scoped>\n",
       "    .dataframe tbody tr th:only-of-type {\n",
       "        vertical-align: middle;\n",
       "    }\n",
       "\n",
       "    .dataframe tbody tr th {\n",
       "        vertical-align: top;\n",
       "    }\n",
       "\n",
       "    .dataframe thead th {\n",
       "        text-align: right;\n",
       "    }\n",
       "</style>\n",
       "<table border=\"1\" class=\"dataframe\">\n",
       "  <thead>\n",
       "    <tr style=\"text-align: right;\">\n",
       "      <th></th>\n",
       "      <th>age</th>\n",
       "      <th>anaemia</th>\n",
       "      <th>creatinine_phosphokinase</th>\n",
       "      <th>diabetes</th>\n",
       "      <th>ejection_fraction</th>\n",
       "      <th>high_blood_pressure</th>\n",
       "      <th>platelets</th>\n",
       "      <th>serum_creatinine</th>\n",
       "      <th>serum_sodium</th>\n",
       "      <th>sex</th>\n",
       "      <th>smoking</th>\n",
       "      <th>time</th>\n",
       "      <th>DEATH_EVENT</th>\n",
       "    </tr>\n",
       "  </thead>\n",
       "  <tbody>\n",
       "    <tr>\n",
       "      <th>0</th>\n",
       "      <td>75.0</td>\n",
       "      <td>0</td>\n",
       "      <td>582</td>\n",
       "      <td>0</td>\n",
       "      <td>20</td>\n",
       "      <td>1</td>\n",
       "      <td>265000.00</td>\n",
       "      <td>1.9</td>\n",
       "      <td>130</td>\n",
       "      <td>1</td>\n",
       "      <td>0</td>\n",
       "      <td>4</td>\n",
       "      <td>1</td>\n",
       "    </tr>\n",
       "    <tr>\n",
       "      <th>1</th>\n",
       "      <td>55.0</td>\n",
       "      <td>0</td>\n",
       "      <td>7861</td>\n",
       "      <td>0</td>\n",
       "      <td>38</td>\n",
       "      <td>0</td>\n",
       "      <td>263358.03</td>\n",
       "      <td>1.1</td>\n",
       "      <td>136</td>\n",
       "      <td>1</td>\n",
       "      <td>0</td>\n",
       "      <td>6</td>\n",
       "      <td>1</td>\n",
       "    </tr>\n",
       "    <tr>\n",
       "      <th>2</th>\n",
       "      <td>65.0</td>\n",
       "      <td>0</td>\n",
       "      <td>146</td>\n",
       "      <td>0</td>\n",
       "      <td>20</td>\n",
       "      <td>0</td>\n",
       "      <td>162000.00</td>\n",
       "      <td>1.3</td>\n",
       "      <td>129</td>\n",
       "      <td>1</td>\n",
       "      <td>1</td>\n",
       "      <td>7</td>\n",
       "      <td>1</td>\n",
       "    </tr>\n",
       "    <tr>\n",
       "      <th>3</th>\n",
       "      <td>50.0</td>\n",
       "      <td>1</td>\n",
       "      <td>111</td>\n",
       "      <td>0</td>\n",
       "      <td>20</td>\n",
       "      <td>0</td>\n",
       "      <td>210000.00</td>\n",
       "      <td>1.9</td>\n",
       "      <td>137</td>\n",
       "      <td>1</td>\n",
       "      <td>0</td>\n",
       "      <td>7</td>\n",
       "      <td>1</td>\n",
       "    </tr>\n",
       "    <tr>\n",
       "      <th>4</th>\n",
       "      <td>65.0</td>\n",
       "      <td>1</td>\n",
       "      <td>160</td>\n",
       "      <td>1</td>\n",
       "      <td>20</td>\n",
       "      <td>0</td>\n",
       "      <td>327000.00</td>\n",
       "      <td>2.7</td>\n",
       "      <td>116</td>\n",
       "      <td>0</td>\n",
       "      <td>0</td>\n",
       "      <td>8</td>\n",
       "      <td>1</td>\n",
       "    </tr>\n",
       "  </tbody>\n",
       "</table>\n",
       "</div>"
      ],
      "text/plain": [
       "    age  anaemia  creatinine_phosphokinase  diabetes  ejection_fraction  \\\n",
       "0  75.0        0                       582         0                 20   \n",
       "1  55.0        0                      7861         0                 38   \n",
       "2  65.0        0                       146         0                 20   \n",
       "3  50.0        1                       111         0                 20   \n",
       "4  65.0        1                       160         1                 20   \n",
       "\n",
       "   high_blood_pressure  platelets  serum_creatinine  serum_sodium  sex  \\\n",
       "0                    1  265000.00               1.9           130    1   \n",
       "1                    0  263358.03               1.1           136    1   \n",
       "2                    0  162000.00               1.3           129    1   \n",
       "3                    0  210000.00               1.9           137    1   \n",
       "4                    0  327000.00               2.7           116    0   \n",
       "\n",
       "   smoking  time  DEATH_EVENT  \n",
       "0        0     4            1  \n",
       "1        0     6            1  \n",
       "2        1     7            1  \n",
       "3        0     7            1  \n",
       "4        0     8            1  "
      ]
     },
     "execution_count": 2,
     "metadata": {},
     "output_type": "execute_result"
    }
   ],
   "source": [
    "df = pd.read_csv('heart failure.csv')\n",
    "df.head()"
   ]
  },
  {
   "cell_type": "code",
   "execution_count": 3,
   "id": "f89799cd",
   "metadata": {},
   "outputs": [
    {
     "data": {
      "text/plain": [
       "(299, 13)"
      ]
     },
     "execution_count": 3,
     "metadata": {},
     "output_type": "execute_result"
    }
   ],
   "source": [
    "df.shape"
   ]
  },
  {
   "cell_type": "code",
   "execution_count": 4,
   "id": "d76ebbdc",
   "metadata": {},
   "outputs": [
    {
     "data": {
      "text/plain": [
       "0    203\n",
       "1     96\n",
       "Name: DEATH_EVENT, dtype: int64"
      ]
     },
     "execution_count": 4,
     "metadata": {},
     "output_type": "execute_result"
    }
   ],
   "source": [
    "df.DEATH_EVENT.value_counts() # 0 = jibito, 1 = mrito"
   ]
  },
  {
   "cell_type": "code",
   "execution_count": 5,
   "id": "2b53248c",
   "metadata": {},
   "outputs": [
    {
     "data": {
      "text/plain": [
       "<AxesSubplot:xlabel='DEATH_EVENT', ylabel='count'>"
      ]
     },
     "execution_count": 5,
     "metadata": {},
     "output_type": "execute_result"
    },
    {
     "data": {
      "image/png": "[encoded data removed]",
      "text/plain": [
       "<Figure size 432x288 with 1 Axes>"
      ]
     },
     "metadata": {
      "needs_background": "light"
     },
     "output_type": "display_data"
    }
   ],
   "source": [
    "sns.countplot(df.DEATH_EVENT)"
   ]
  },
  {
   "cell_type": "code",
   "execution_count": 6,
   "id": "411f27b8",
   "metadata": {},
   "outputs": [
    {
     "data": {
      "text/plain": [
       "<AxesSubplot:xlabel='diabetes', ylabel='count'>"
      ]
     },
     "execution_count": 6,
     "metadata": {},
     "output_type": "execute_result"
    },
    {
     "data": {
      "image/png": "[encoded data removed]",
      "text/plain": [
       "<Figure size 432x288 with 1 Axes>"
      ]
     },
     "metadata": {
      "needs_background": "light"
     },
     "output_type": "display_data"
    }
   ],
   "source": [
    "sns.countplot(x='diabetes', hue = 'DEATH_EVENT',data=df)"
   ]
  },
  {
   "cell_type": "code",
   "execution_count": 7,
   "id": "f88bc7f9",
   "metadata": {},
   "outputs": [
    {
     "data": {
      "text/plain": [
       "<AxesSubplot:xlabel='high_blood_pressure', ylabel='count'>"
      ]
     },
     "execution_count": 7,
     "metadata": {},
     "output_type": "execute_result"
    },
    {
     "data": {
      "image/png": "[encoded data removed]",
      "text/plain": [
       "<Figure size 432x288 with 1 Axes>"
      ]
     },
     "metadata": {
      "needs_background": "light"
     },
     "output_type": "display_data"
    }
   ],
   "source": [
    "sns.countplot(x = 'high_blood_pressure', hue='DEATH_EVENT',data=df)"
   ]
  },
  {
   "cell_type": "code",
   "execution_count": 8,
   "id": "a047cadf",
   "metadata": {},
   "outputs": [
    {
     "data": {
      "text/plain": [
       "<AxesSubplot:xlabel='anaemia', ylabel='count'>"
      ]
     },
     "execution_count": 8,
     "metadata": {},
     "output_type": "execute_result"
    },
    {
     "data": {
      "image/png": "[encoded data removed]",
      "text/plain": [
       "<Figure size 432x288 with 1 Axes>"
      ]
     },
     "metadata": {
      "needs_background": "light"
     },
     "output_type": "display_data"
    }
   ],
   "source": [
    " sns.countplot(x = 'anaemia', hue='DEATH_EVENT',data=df)"
   ]
  },
  {
   "cell_type": "code",
   "execution_count": 9,
   "id": "23bba30e",
   "metadata": {},
   "outputs": [
    {
     "data": {
      "text/html": [
       "<div>\n",
       "<style scoped>\n",
       "    .dataframe tbody tr th:only-of-type {\n",
       "        vertical-align: middle;\n",
       "    }\n",
       "\n",
       "    .dataframe tbody tr th {\n",
       "        vertical-align: top;\n",
       "    }\n",
       "\n",
       "    .dataframe thead th {\n",
       "        text-align: right;\n",
       "    }\n",
       "</style>\n",
       "<table border=\"1\" class=\"dataframe\">\n",
       "  <thead>\n",
       "    <tr style=\"text-align: right;\">\n",
       "      <th></th>\n",
       "      <th>age</th>\n",
       "      <th>anaemia</th>\n",
       "      <th>creatinine_phosphokinase</th>\n",
       "      <th>diabetes</th>\n",
       "      <th>ejection_fraction</th>\n",
       "      <th>high_blood_pressure</th>\n",
       "      <th>platelets</th>\n",
       "      <th>serum_creatinine</th>\n",
       "      <th>serum_sodium</th>\n",
       "      <th>sex</th>\n",
       "      <th>smoking</th>\n",
       "      <th>time</th>\n",
       "      <th>DEATH_EVENT</th>\n",
       "    </tr>\n",
       "  </thead>\n",
       "  <tbody>\n",
       "    <tr>\n",
       "      <th>age</th>\n",
       "      <td>1.000000</td>\n",
       "      <td>0.088006</td>\n",
       "      <td>-0.081584</td>\n",
       "      <td>-0.101012</td>\n",
       "      <td>0.060098</td>\n",
       "      <td>0.093289</td>\n",
       "      <td>-0.052354</td>\n",
       "      <td>0.159187</td>\n",
       "      <td>-0.045966</td>\n",
       "      <td>0.065430</td>\n",
       "      <td>0.018668</td>\n",
       "      <td>-0.224068</td>\n",
       "      <td>0.253729</td>\n",
       "    </tr>\n",
       "    <tr>\n",
       "      <th>anaemia</th>\n",
       "      <td>0.088006</td>\n",
       "      <td>1.000000</td>\n",
       "      <td>-0.190741</td>\n",
       "      <td>-0.012729</td>\n",
       "      <td>0.031557</td>\n",
       "      <td>0.038182</td>\n",
       "      <td>-0.043786</td>\n",
       "      <td>0.052174</td>\n",
       "      <td>0.041882</td>\n",
       "      <td>-0.094769</td>\n",
       "      <td>-0.107290</td>\n",
       "      <td>-0.141414</td>\n",
       "      <td>0.066270</td>\n",
       "    </tr>\n",
       "    <tr>\n",
       "      <th>creatinine_phosphokinase</th>\n",
       "      <td>-0.081584</td>\n",
       "      <td>-0.190741</td>\n",
       "      <td>1.000000</td>\n",
       "      <td>-0.009639</td>\n",
       "      <td>-0.044080</td>\n",
       "      <td>-0.070590</td>\n",
       "      <td>0.024463</td>\n",
       "      <td>-0.016408</td>\n",
       "      <td>0.059550</td>\n",
       "      <td>0.079791</td>\n",
       "      <td>0.002421</td>\n",
       "      <td>-0.009346</td>\n",
       "      <td>0.062728</td>\n",
       "    </tr>\n",
       "    <tr>\n",
       "      <th>diabetes</th>\n",
       "      <td>-0.101012</td>\n",
       "      <td>-0.012729</td>\n",
       "      <td>-0.009639</td>\n",
       "      <td>1.000000</td>\n",
       "      <td>-0.004850</td>\n",
       "      <td>-0.012732</td>\n",
       "      <td>0.092193</td>\n",
       "      <td>-0.046975</td>\n",
       "      <td>-0.089551</td>\n",
       "      <td>-0.157730</td>\n",
       "      <td>-0.147173</td>\n",
       "      <td>0.033726</td>\n",
       "      <td>-0.001943</td>\n",
       "    </tr>\n",
       "    <tr>\n",
       "      <th>ejection_fraction</th>\n",
       "      <td>0.060098</td>\n",
       "      <td>0.031557</td>\n",
       "      <td>-0.044080</td>\n",
       "      <td>-0.004850</td>\n",
       "      <td>1.000000</td>\n",
       "      <td>0.024445</td>\n",
       "      <td>0.072177</td>\n",
       "      <td>-0.011302</td>\n",
       "      <td>0.175902</td>\n",
       "      <td>-0.148386</td>\n",
       "      <td>-0.067315</td>\n",
       "      <td>0.041729</td>\n",
       "      <td>-0.268603</td>\n",
       "    </tr>\n",
       "    <tr>\n",
       "      <th>high_blood_pressure</th>\n",
       "      <td>0.093289</td>\n",
       "      <td>0.038182</td>\n",
       "      <td>-0.070590</td>\n",
       "      <td>-0.012732</td>\n",
       "      <td>0.024445</td>\n",
       "      <td>1.000000</td>\n",
       "      <td>0.049963</td>\n",
       "      <td>-0.004935</td>\n",
       "      <td>0.037109</td>\n",
       "      <td>-0.104615</td>\n",
       "      <td>-0.055711</td>\n",
       "      <td>-0.196439</td>\n",
       "      <td>0.079351</td>\n",
       "    </tr>\n",
       "    <tr>\n",
       "      <th>platelets</th>\n",
       "      <td>-0.052354</td>\n",
       "      <td>-0.043786</td>\n",
       "      <td>0.024463</td>\n",
       "      <td>0.092193</td>\n",
       "      <td>0.072177</td>\n",
       "      <td>0.049963</td>\n",
       "      <td>1.000000</td>\n",
       "      <td>-0.041198</td>\n",
       "      <td>0.062125</td>\n",
       "      <td>-0.125120</td>\n",
       "      <td>0.028234</td>\n",
       "      <td>0.010514</td>\n",
       "      <td>-0.049139</td>\n",
       "    </tr>\n",
       "    <tr>\n",
       "      <th>serum_creatinine</th>\n",
       "      <td>0.159187</td>\n",
       "      <td>0.052174</td>\n",
       "      <td>-0.016408</td>\n",
       "      <td>-0.046975</td>\n",
       "      <td>-0.011302</td>\n",
       "      <td>-0.004935</td>\n",
       "      <td>-0.041198</td>\n",
       "      <td>1.000000</td>\n",
       "      <td>-0.189095</td>\n",
       "      <td>0.006970</td>\n",
       "      <td>-0.027414</td>\n",
       "      <td>-0.149315</td>\n",
       "      <td>0.294278</td>\n",
       "    </tr>\n",
       "    <tr>\n",
       "      <th>serum_sodium</th>\n",
       "      <td>-0.045966</td>\n",
       "      <td>0.041882</td>\n",
       "      <td>0.059550</td>\n",
       "      <td>-0.089551</td>\n",
       "      <td>0.175902</td>\n",
       "      <td>0.037109</td>\n",
       "      <td>0.062125</td>\n",
       "      <td>-0.189095</td>\n",
       "      <td>1.000000</td>\n",
       "      <td>-0.027566</td>\n",
       "      <td>0.004813</td>\n",
       "      <td>0.087640</td>\n",
       "      <td>-0.195204</td>\n",
       "    </tr>\n",
       "    <tr>\n",
       "      <th>sex</th>\n",
       "      <td>0.065430</td>\n",
       "      <td>-0.094769</td>\n",
       "      <td>0.079791</td>\n",
       "      <td>-0.157730</td>\n",
       "      <td>-0.148386</td>\n",
       "      <td>-0.104615</td>\n",
       "      <td>-0.125120</td>\n",
       "      <td>0.006970</td>\n",
       "      <td>-0.027566</td>\n",
       "      <td>1.000000</td>\n",
       "      <td>0.445892</td>\n",
       "      <td>-0.015608</td>\n",
       "      <td>-0.004316</td>\n",
       "    </tr>\n",
       "    <tr>\n",
       "      <th>smoking</th>\n",
       "      <td>0.018668</td>\n",
       "      <td>-0.107290</td>\n",
       "      <td>0.002421</td>\n",
       "      <td>-0.147173</td>\n",
       "      <td>-0.067315</td>\n",
       "      <td>-0.055711</td>\n",
       "      <td>0.028234</td>\n",
       "      <td>-0.027414</td>\n",
       "      <td>0.004813</td>\n",
       "      <td>0.445892</td>\n",
       "      <td>1.000000</td>\n",
       "      <td>-0.022839</td>\n",
       "      <td>-0.012623</td>\n",
       "    </tr>\n",
       "    <tr>\n",
       "      <th>time</th>\n",
       "      <td>-0.224068</td>\n",
       "      <td>-0.141414</td>\n",
       "      <td>-0.009346</td>\n",
       "      <td>0.033726</td>\n",
       "      <td>0.041729</td>\n",
       "      <td>-0.196439</td>\n",
       "      <td>0.010514</td>\n",
       "      <td>-0.149315</td>\n",
       "      <td>0.087640</td>\n",
       "      <td>-0.015608</td>\n",
       "      <td>-0.022839</td>\n",
       "      <td>1.000000</td>\n",
       "      <td>-0.526964</td>\n",
       "    </tr>\n",
       "    <tr>\n",
       "      <th>DEATH_EVENT</th>\n",
       "      <td>0.253729</td>\n",
       "      <td>0.066270</td>\n",
       "      <td>0.062728</td>\n",
       "      <td>-0.001943</td>\n",
       "      <td>-0.268603</td>\n",
       "      <td>0.079351</td>\n",
       "      <td>-0.049139</td>\n",
       "      <td>0.294278</td>\n",
       "      <td>-0.195204</td>\n",
       "      <td>-0.004316</td>\n",
       "      <td>-0.012623</td>\n",
       "      <td>-0.526964</td>\n",
       "      <td>1.000000</td>\n",
       "    </tr>\n",
       "  </tbody>\n",
       "</table>\n",
       "</div>"
      ],
      "text/plain": [
       "                               age   anaemia  creatinine_phosphokinase  \\\n",
       "age                       1.000000  0.088006                 -0.081584   \n",
       "anaemia                   0.088006  1.000000                 -0.190741   \n",
       "creatinine_phosphokinase -0.081584 -0.190741                  1.000000   \n",
       "diabetes                 -0.101012 -0.012729                 -0.009639   \n",
       "ejection_fraction         0.060098  0.031557                 -0.044080   \n",
       "high_blood_pressure       0.093289  0.038182                 -0.070590   \n",
       "platelets                -0.052354 -0.043786                  0.024463   \n",
       "serum_creatinine          0.159187  0.052174                 -0.016408   \n",
       "serum_sodium             -0.045966  0.041882                  0.059550   \n",
       "sex                       0.065430 -0.094769                  0.079791   \n",
       "smoking                   0.018668 -0.107290                  0.002421   \n",
       "time                     -0.224068 -0.141414                 -0.009346   \n",
       "DEATH_EVENT               0.253729  0.066270                  0.062728   \n",
       "\n",
       "                          diabetes  ejection_fraction  high_blood_pressure  \\\n",
       "age                      -0.101012           0.060098             0.093289   \n",
       "anaemia                  -0.012729           0.031557             0.038182   \n",
       "creatinine_phosphokinase -0.009639          -0.044080            -0.070590   \n",
       "diabetes                  1.000000          -0.004850            -0.012732   \n",
       "ejection_fraction        -0.004850           1.000000             0.024445   \n",
       "high_blood_pressure      -0.012732           0.024445             1.000000   \n",
       "platelets                 0.092193           0.072177             0.049963   \n",
       "serum_creatinine         -0.046975          -0.011302            -0.004935   \n",
       "serum_sodium             -0.089551           0.175902             0.037109   \n",
       "sex                      -0.157730          -0.148386            -0.104615   \n",
       "smoking                  -0.147173          -0.067315            -0.055711   \n",
       "time                      0.033726           0.041729            -0.196439   \n",
       "DEATH_EVENT              -0.001943          -0.268603             0.079351   \n",
       "\n",
       "                          platelets  serum_creatinine  serum_sodium       sex  \\\n",
       "age                       -0.052354          0.159187     -0.045966  0.065430   \n",
       "anaemia                   -0.043786          0.052174      0.041882 -0.094769   \n",
       "creatinine_phosphokinase   0.024463         -0.016408      0.059550  0.079791   \n",
       "diabetes                   0.092193         -0.046975     -0.089551 -0.157730   \n",
       "ejection_fraction          0.072177         -0.011302      0.175902 -0.148386   \n",
       "high_blood_pressure        0.049963         -0.004935      0.037109 -0.104615   \n",
       "platelets                  1.000000         -0.041198      0.062125 -0.125120   \n",
       "serum_creatinine          -0.041198          1.000000     -0.189095  0.006970   \n",
       "serum_sodium               0.062125         -0.189095      1.000000 -0.027566   \n",
       "sex                       -0.125120          0.006970     -0.027566  1.000000   \n",
       "smoking                    0.028234         -0.027414      0.004813  0.445892   \n",
       "time                       0.010514         -0.149315      0.087640 -0.015608   \n",
       "DEATH_EVENT               -0.049139          0.294278     -0.195204 -0.004316   \n",
       "\n",
       "                           smoking      time  DEATH_EVENT  \n",
       "age                       0.018668 -0.224068     0.253729  \n",
       "anaemia                  -0.107290 -0.141414     0.066270  \n",
       "creatinine_phosphokinase  0.002421 -0.009346     0.062728  \n",
       "diabetes                 -0.147173  0.033726    -0.001943  \n",
       "ejection_fraction        -0.067315  0.041729    -0.268603  \n",
       "high_blood_pressure      -0.055711 -0.196439     0.079351  \n",
       "platelets                 0.028234  0.010514    -0.049139  \n",
       "serum_creatinine         -0.027414 -0.149315     0.294278  \n",
       "serum_sodium              0.004813  0.087640    -0.195204  \n",
       "sex                       0.445892 -0.015608    -0.004316  \n",
       "smoking                   1.000000 -0.022839    -0.012623  \n",
       "time                     -0.022839  1.000000    -0.526964  \n",
       "DEATH_EVENT              -0.012623 -0.526964     1.000000  "
      ]
     },
     "execution_count": 9,
     "metadata": {},
     "output_type": "execute_result"
    }
   ],
   "source": [
    "df.corr()"
   ]
  },
  {
   "cell_type": "code",
   "execution_count": 10,
   "id": "b5189f4e",
   "metadata": {},
   "outputs": [
    {
     "data": {
      "text/plain": [
       "<AxesSubplot:title={'center':'Correlation for Every Column'}>"
      ]
     },
     "execution_count": 10,
     "metadata": {},
     "output_type": "execute_result"
    },
    {
     "data": {
      "image/png": "[encoded data removed]",
      "text/plain": [
       "<Figure size 1152x864 with 2 Axes>"
      ]
     },
     "metadata": {
      "needs_background": "light"
     },
     "output_type": "display_data"
    }
   ],
   "source": [
    "plt.figure(figsize=(16,12))\n",
    "plt.title('Correlation for Every Column')\n",
    "sns.heatmap(df.corr(),annot=True)"
   ]
  },
  {
   "cell_type": "markdown",
   "id": "0bd6b479",
   "metadata": {},
   "source": [
    "# Seperate X,Y "
   ]
  },
  {
   "cell_type": "code",
   "execution_count": 11,
   "id": "5a7b13a6",
   "metadata": {},
   "outputs": [],
   "source": [
    "x = df.drop('DEATH_EVENT',axis= 'columns')"
   ]
  },
  {
   "cell_type": "code",
   "execution_count": 12,
   "id": "60a47d4b",
   "metadata": {},
   "outputs": [
    {
     "data": {
      "text/html": [
       "<div>\n",
       "<style scoped>\n",
       "    .dataframe tbody tr th:only-of-type {\n",
       "        vertical-align: middle;\n",
       "    }\n",
       "\n",
       "    .dataframe tbody tr th {\n",
       "        vertical-align: top;\n",
       "    }\n",
       "\n",
       "    .dataframe thead th {\n",
       "        text-align: right;\n",
       "    }\n",
       "</style>\n",
       "<table border=\"1\" class=\"dataframe\">\n",
       "  <thead>\n",
       "    <tr style=\"text-align: right;\">\n",
       "      <th></th>\n",
       "      <th>age</th>\n",
       "      <th>anaemia</th>\n",
       "      <th>creatinine_phosphokinase</th>\n",
       "      <th>diabetes</th>\n",
       "      <th>ejection_fraction</th>\n",
       "      <th>high_blood_pressure</th>\n",
       "      <th>platelets</th>\n",
       "      <th>serum_creatinine</th>\n",
       "      <th>serum_sodium</th>\n",
       "      <th>sex</th>\n",
       "      <th>smoking</th>\n",
       "      <th>time</th>\n",
       "    </tr>\n",
       "  </thead>\n",
       "  <tbody>\n",
       "    <tr>\n",
       "      <th>0</th>\n",
       "      <td>75.0</td>\n",
       "      <td>0</td>\n",
       "      <td>582</td>\n",
       "      <td>0</td>\n",
       "      <td>20</td>\n",
       "      <td>1</td>\n",
       "      <td>265000.00</td>\n",
       "      <td>1.9</td>\n",
       "      <td>130</td>\n",
       "      <td>1</td>\n",
       "      <td>0</td>\n",
       "      <td>4</td>\n",
       "    </tr>\n",
       "    <tr>\n",
       "      <th>1</th>\n",
       "      <td>55.0</td>\n",
       "      <td>0</td>\n",
       "      <td>7861</td>\n",
       "      <td>0</td>\n",
       "      <td>38</td>\n",
       "      <td>0</td>\n",
       "      <td>263358.03</td>\n",
       "      <td>1.1</td>\n",
       "      <td>136</td>\n",
       "      <td>1</td>\n",
       "      <td>0</td>\n",
       "      <td>6</td>\n",
       "    </tr>\n",
       "    <tr>\n",
       "      <th>2</th>\n",
       "      <td>65.0</td>\n",
       "      <td>0</td>\n",
       "      <td>146</td>\n",
       "      <td>0</td>\n",
       "      <td>20</td>\n",
       "      <td>0</td>\n",
       "      <td>162000.00</td>\n",
       "      <td>1.3</td>\n",
       "      <td>129</td>\n",
       "      <td>1</td>\n",
       "      <td>1</td>\n",
       "      <td>7</td>\n",
       "    </tr>\n",
       "    <tr>\n",
       "      <th>3</th>\n",
       "      <td>50.0</td>\n",
       "      <td>1</td>\n",
       "      <td>111</td>\n",
       "      <td>0</td>\n",
       "      <td>20</td>\n",
       "      <td>0</td>\n",
       "      <td>210000.00</td>\n",
       "      <td>1.9</td>\n",
       "      <td>137</td>\n",
       "      <td>1</td>\n",
       "      <td>0</td>\n",
       "      <td>7</td>\n",
       "    </tr>\n",
       "    <tr>\n",
       "      <th>4</th>\n",
       "      <td>65.0</td>\n",
       "      <td>1</td>\n",
       "      <td>160</td>\n",
       "      <td>1</td>\n",
       "      <td>20</td>\n",
       "      <td>0</td>\n",
       "      <td>327000.00</td>\n",
       "      <td>2.7</td>\n",
       "      <td>116</td>\n",
       "      <td>0</td>\n",
       "      <td>0</td>\n",
       "      <td>8</td>\n",
       "    </tr>\n",
       "  </tbody>\n",
       "</table>\n",
       "</div>"
      ],
      "text/plain": [
       "    age  anaemia  creatinine_phosphokinase  diabetes  ejection_fraction  \\\n",
       "0  75.0        0                       582         0                 20   \n",
       "1  55.0        0                      7861         0                 38   \n",
       "2  65.0        0                       146         0                 20   \n",
       "3  50.0        1                       111         0                 20   \n",
       "4  65.0        1                       160         1                 20   \n",
       "\n",
       "   high_blood_pressure  platelets  serum_creatinine  serum_sodium  sex  \\\n",
       "0                    1  265000.00               1.9           130    1   \n",
       "1                    0  263358.03               1.1           136    1   \n",
       "2                    0  162000.00               1.3           129    1   \n",
       "3                    0  210000.00               1.9           137    1   \n",
       "4                    0  327000.00               2.7           116    0   \n",
       "\n",
       "   smoking  time  \n",
       "0        0     4  \n",
       "1        0     6  \n",
       "2        1     7  \n",
       "3        0     7  \n",
       "4        0     8  "
      ]
     },
     "execution_count": 12,
     "metadata": {},
     "output_type": "execute_result"
    }
   ],
   "source": [
    "x.head()"
   ]
  },
  {
   "cell_type": "code",
   "execution_count": 13,
   "id": "32125ed4",
   "metadata": {},
   "outputs": [],
   "source": [
    "y = df['DEATH_EVENT']"
   ]
  },
  {
   "cell_type": "code",
   "execution_count": 14,
   "id": "e13fbee1",
   "metadata": {},
   "outputs": [
    {
     "data": {
      "text/plain": [
       "0    1\n",
       "1    1\n",
       "2    1\n",
       "3    1\n",
       "4    1\n",
       "Name: DEATH_EVENT, dtype: int64"
      ]
     },
     "execution_count": 14,
     "metadata": {},
     "output_type": "execute_result"
    }
   ],
   "source": [
    "y.head()"
   ]
  },
  {
   "cell_type": "markdown",
   "id": "fc2bcae4",
   "metadata": {},
   "source": [
    "# Split the dataset into train and test"
   ]
  },
  {
   "cell_type": "code",
   "execution_count": 15,
   "id": "3a11855b",
   "metadata": {},
   "outputs": [],
   "source": [
    "xtrain, xtest, ytrain, ytest = tts(x,y,test_size=.30,random_state=1)"
   ]
  },
  {
   "cell_type": "code",
   "execution_count": 16,
   "id": "6183cf70",
   "metadata": {},
   "outputs": [
    {
     "data": {
      "text/html": [
       "<div>\n",
       "<style scoped>\n",
       "    .dataframe tbody tr th:only-of-type {\n",
       "        vertical-align: middle;\n",
       "    }\n",
       "\n",
       "    .dataframe tbody tr th {\n",
       "        vertical-align: top;\n",
       "    }\n",
       "\n",
       "    .dataframe thead th {\n",
       "        text-align: right;\n",
       "    }\n",
       "</style>\n",
       "<table border=\"1\" class=\"dataframe\">\n",
       "  <thead>\n",
       "    <tr style=\"text-align: right;\">\n",
       "      <th></th>\n",
       "      <th>age</th>\n",
       "      <th>anaemia</th>\n",
       "      <th>creatinine_phosphokinase</th>\n",
       "      <th>diabetes</th>\n",
       "      <th>ejection_fraction</th>\n",
       "      <th>high_blood_pressure</th>\n",
       "      <th>platelets</th>\n",
       "      <th>serum_creatinine</th>\n",
       "      <th>serum_sodium</th>\n",
       "      <th>sex</th>\n",
       "      <th>smoking</th>\n",
       "      <th>time</th>\n",
       "    </tr>\n",
       "  </thead>\n",
       "  <tbody>\n",
       "    <tr>\n",
       "      <th>14</th>\n",
       "      <td>49.0</td>\n",
       "      <td>1</td>\n",
       "      <td>80</td>\n",
       "      <td>0</td>\n",
       "      <td>30</td>\n",
       "      <td>1</td>\n",
       "      <td>427000.0</td>\n",
       "      <td>1.0</td>\n",
       "      <td>138</td>\n",
       "      <td>0</td>\n",
       "      <td>0</td>\n",
       "      <td>12</td>\n",
       "    </tr>\n",
       "    <tr>\n",
       "      <th>210</th>\n",
       "      <td>70.0</td>\n",
       "      <td>0</td>\n",
       "      <td>212</td>\n",
       "      <td>1</td>\n",
       "      <td>17</td>\n",
       "      <td>1</td>\n",
       "      <td>389000.0</td>\n",
       "      <td>1.0</td>\n",
       "      <td>136</td>\n",
       "      <td>1</td>\n",
       "      <td>1</td>\n",
       "      <td>188</td>\n",
       "    </tr>\n",
       "    <tr>\n",
       "      <th>236</th>\n",
       "      <td>75.0</td>\n",
       "      <td>0</td>\n",
       "      <td>119</td>\n",
       "      <td>0</td>\n",
       "      <td>50</td>\n",
       "      <td>1</td>\n",
       "      <td>248000.0</td>\n",
       "      <td>1.1</td>\n",
       "      <td>148</td>\n",
       "      <td>1</td>\n",
       "      <td>0</td>\n",
       "      <td>209</td>\n",
       "    </tr>\n",
       "    <tr>\n",
       "      <th>44</th>\n",
       "      <td>60.0</td>\n",
       "      <td>1</td>\n",
       "      <td>588</td>\n",
       "      <td>1</td>\n",
       "      <td>60</td>\n",
       "      <td>0</td>\n",
       "      <td>194000.0</td>\n",
       "      <td>1.1</td>\n",
       "      <td>142</td>\n",
       "      <td>0</td>\n",
       "      <td>0</td>\n",
       "      <td>33</td>\n",
       "    </tr>\n",
       "    <tr>\n",
       "      <th>163</th>\n",
       "      <td>50.0</td>\n",
       "      <td>1</td>\n",
       "      <td>2334</td>\n",
       "      <td>1</td>\n",
       "      <td>35</td>\n",
       "      <td>0</td>\n",
       "      <td>75000.0</td>\n",
       "      <td>0.9</td>\n",
       "      <td>142</td>\n",
       "      <td>0</td>\n",
       "      <td>0</td>\n",
       "      <td>126</td>\n",
       "    </tr>\n",
       "  </tbody>\n",
       "</table>\n",
       "</div>"
      ],
      "text/plain": [
       "      age  anaemia  creatinine_phosphokinase  diabetes  ejection_fraction  \\\n",
       "14   49.0        1                        80         0                 30   \n",
       "210  70.0        0                       212         1                 17   \n",
       "236  75.0        0                       119         0                 50   \n",
       "44   60.0        1                       588         1                 60   \n",
       "163  50.0        1                      2334         1                 35   \n",
       "\n",
       "     high_blood_pressure  platelets  serum_creatinine  serum_sodium  sex  \\\n",
       "14                     1   427000.0               1.0           138    0   \n",
       "210                    1   389000.0               1.0           136    1   \n",
       "236                    1   248000.0               1.1           148    1   \n",
       "44                     0   194000.0               1.1           142    0   \n",
       "163                    0    75000.0               0.9           142    0   \n",
       "\n",
       "     smoking  time  \n",
       "14         0    12  \n",
       "210        1   188  \n",
       "236        0   209  \n",
       "44         0    33  \n",
       "163        0   126  "
      ]
     },
     "execution_count": 16,
     "metadata": {},
     "output_type": "execute_result"
    }
   ],
   "source": [
    "xtrain.head()"
   ]
  },
  {
   "cell_type": "code",
   "execution_count": 17,
   "id": "3a032eec",
   "metadata": {},
   "outputs": [
    {
     "data": {
      "text/plain": [
       "(209, 12)"
      ]
     },
     "execution_count": 17,
     "metadata": {},
     "output_type": "execute_result"
    }
   ],
   "source": [
    "xtrain.shape"
   ]
  },
  {
   "cell_type": "code",
   "execution_count": 18,
   "id": "550cc859",
   "metadata": {},
   "outputs": [
    {
     "data": {
      "text/plain": [
       "(90, 12)"
      ]
     },
     "execution_count": 18,
     "metadata": {},
     "output_type": "execute_result"
    }
   ],
   "source": [
    "xtest.shape"
   ]
  },
  {
   "cell_type": "code",
   "execution_count": 19,
   "id": "382ebc3d",
   "metadata": {},
   "outputs": [],
   "source": [
    "clf = DecisionTreeClassifier() #creating object for decision tree"
   ]
  },
  {
   "cell_type": "code",
   "execution_count": 20,
   "id": "4e10a240",
   "metadata": {},
   "outputs": [
    {
     "data": {
      "text/plain": [
       "DecisionTreeClassifier()"
      ]
     },
     "execution_count": 20,
     "metadata": {},
     "output_type": "execute_result"
    }
   ],
   "source": [
    "clf.fit(xtrain,ytrain)"
   ]
  },
  {
   "cell_type": "code",
   "execution_count": 21,
   "id": "e2fb0f89",
   "metadata": {},
   "outputs": [
    {
     "data": {
      "image/png": "[encoded data removed]",
      "text/plain": [
       "<Figure size 1296x1440 with 1 Axes>"
      ]
     },
     "metadata": {
      "needs_background": "light"
     },
     "output_type": "display_data"
    }
   ],
   "source": [
    "from sklearn import tree\n",
    "plt.figure(figsize=(18,20))\n",
    "tree.plot_tree(clf, filled=True, rounded=True, feature_names = x.columns)\n",
    "plt.savefig('tree.png',dpi=800)"
   ]
  },
  {
   "cell_type": "code",
   "execution_count": 22,
   "id": "d08d0e8c",
   "metadata": {},
   "outputs": [],
   "source": [
    "pred = clf.predict(xtest)"
   ]
  },
  {
   "cell_type": "code",
   "execution_count": 23,
   "id": "ee2d3631",
   "metadata": {},
   "outputs": [
    {
     "data": {
      "text/plain": [
       "array([0, 0, 0, 0, 0, 0, 0, 0, 1, 0, 1, 0, 1, 0, 1, 0, 0, 1, 0, 0, 0, 1,\n",
       "       1, 1, 0, 0, 0, 0, 0, 1, 0, 0, 0, 0, 0, 1, 0, 0, 0, 0, 1, 0, 0, 0,\n",
       "       1, 1, 0, 0, 1, 0, 0, 0, 0, 1, 0, 0, 0, 0, 0, 0, 0, 0, 0, 0, 1, 0,\n",
       "       1, 1, 0, 0, 0, 0, 0, 0, 0, 1, 0, 0, 0, 1, 1, 0, 1, 0, 0, 0, 0, 0,\n",
       "       0, 1], dtype=int64)"
      ]
     },
     "execution_count": 23,
     "metadata": {},
     "output_type": "execute_result"
    }
   ],
   "source": [
    "pred #predicted result"
   ]
  },
  {
   "cell_type": "code",
   "execution_count": 24,
   "id": "b50377f1",
   "metadata": {},
   "outputs": [
    {
     "data": {
      "text/plain": [
       "array([0, 0, 1, 0, 0, 0, 0, 0, 1, 0, 0, 1, 1, 0, 1, 0, 0, 1, 0, 0, 0, 1,\n",
       "       0, 1, 0, 0, 0, 0, 0, 0, 0, 0, 0, 0, 0, 0, 0, 0, 0, 0, 1, 0, 0, 0,\n",
       "       0, 1, 0, 0, 1, 1, 0, 0, 0, 1, 1, 0, 0, 0, 0, 0, 0, 0, 0, 0, 1, 1,\n",
       "       1, 0, 0, 1, 0, 0, 1, 1, 0, 1, 0, 0, 0, 1, 0, 0, 1, 0, 1, 0, 1, 0,\n",
       "       0, 1], dtype=int64)"
      ]
     },
     "execution_count": 24,
     "metadata": {},
     "output_type": "execute_result"
    }
   ],
   "source": [
    "np.array(ytest) #actual result"
   ]
  },
  {
   "cell_type": "markdown",
   "id": "e12f23f1",
   "metadata": {},
   "source": [
    "# Confusion Matrix"
   ]
  },
  {
   "cell_type": "code",
   "execution_count": 25,
   "id": "7e7530cd",
   "metadata": {},
   "outputs": [],
   "source": [
    "#from sklearn.metrics import classification_report, accuracy_score, confusion_matrix, roc_curve"
   ]
  },
  {
   "cell_type": "code",
   "execution_count": 26,
   "id": "6bdee7ed",
   "metadata": {},
   "outputs": [
    {
     "data": {
      "text/plain": [
       "'              precision    recall  f1-score   support\\n\\n           0       0.85      0.89      0.87        64\\n           1       0.70      0.62      0.65        26\\n\\n    accuracy                           0.81        90\\n   macro avg       0.77      0.75      0.76        90\\nweighted avg       0.81      0.81      0.81        90\\n'"
      ]
     },
     "execution_count": 26,
     "metadata": {},
     "output_type": "execute_result"
    }
   ],
   "source": [
    "classification_report(ytest,pred)"
   ]
  },
  {
   "cell_type": "code",
   "execution_count": 27,
   "id": "67449ff8",
   "metadata": {},
   "outputs": [
    {
     "name": "stdout",
     "output_type": "stream",
     "text": [
      "              precision    recall  f1-score   support\n",
      "\n",
      "           0       0.85      0.89      0.87        64\n",
      "           1       0.70      0.62      0.65        26\n",
      "\n",
      "    accuracy                           0.81        90\n",
      "   macro avg       0.77      0.75      0.76        90\n",
      "weighted avg       0.81      0.81      0.81        90\n",
      "\n"
     ]
    }
   ],
   "source": [
    "print(classification_report(ytest,pred))"
   ]
  },
  {
   "cell_type": "code",
   "execution_count": 28,
   "id": "fd7c79a6",
   "metadata": {},
   "outputs": [],
   "source": [
    "cm = confusion_matrix(ytest,pred)"
   ]
  },
  {
   "cell_type": "code",
   "execution_count": 29,
   "id": "9813dda1",
   "metadata": {},
   "outputs": [
    {
     "data": {
      "text/plain": [
       "array([[57,  7],\n",
       "       [10, 16]], dtype=int64)"
      ]
     },
     "execution_count": 29,
     "metadata": {},
     "output_type": "execute_result"
    }
   ],
   "source": [
    "cm"
   ]
  },
  {
   "cell_type": "code",
   "execution_count": 30,
   "id": "cb9fe9d0",
   "metadata": {},
   "outputs": [
    {
     "data": {
      "text/plain": [
       "Text(0.5, 1.0, 'Confusion Matrix')"
      ]
     },
     "execution_count": 30,
     "metadata": {},
     "output_type": "execute_result"
    },
    {
     "data": {
      "image/png": "[encoded data removed]",
      "text/plain": [
       "<Figure size 432x288 with 2 Axes>"
      ]
     },
     "metadata": {
      "needs_background": "light"
     },
     "output_type": "display_data"
    }
   ],
   "source": [
    "sns.heatmap(cm, annot=True)\n",
    "plt.xlabel('Predicted Values')\n",
    "plt.ylabel('Actual Values')\n",
    "plt.title('Confusion Matrix')"
   ]
  },
  {
   "cell_type": "code",
   "execution_count": 31,
   "id": "abd50b44",
   "metadata": {},
   "outputs": [],
   "source": [
    " tp, fn, fp, tn = confusion_matrix(ytest,pred).reshape(-1)"
   ]
  },
  {
   "cell_type": "code",
   "execution_count": 32,
   "id": "ed9e0f1b",
   "metadata": {},
   "outputs": [
    {
     "data": {
      "text/plain": [
       "57"
      ]
     },
     "execution_count": 32,
     "metadata": {},
     "output_type": "execute_result"
    }
   ],
   "source": [
    "tp"
   ]
  },
  {
   "cell_type": "code",
   "execution_count": 33,
   "id": "d60cab44",
   "metadata": {},
   "outputs": [
    {
     "data": {
      "text/plain": [
       "7"
      ]
     },
     "execution_count": 33,
     "metadata": {},
     "output_type": "execute_result"
    }
   ],
   "source": [
    "fn"
   ]
  },
  {
   "cell_type": "code",
   "execution_count": 34,
   "id": "fe107183",
   "metadata": {},
   "outputs": [
    {
     "data": {
      "text/plain": [
       "10"
      ]
     },
     "execution_count": 34,
     "metadata": {},
     "output_type": "execute_result"
    }
   ],
   "source": [
    "fp"
   ]
  },
  {
   "cell_type": "code",
   "execution_count": 35,
   "id": "2df32c65",
   "metadata": {},
   "outputs": [
    {
     "data": {
      "text/plain": [
       "16"
      ]
     },
     "execution_count": 35,
     "metadata": {},
     "output_type": "execute_result"
    }
   ],
   "source": [
    "tn"
   ]
  },
  {
   "cell_type": "markdown",
   "id": "dba74e52",
   "metadata": {},
   "source": [
    "# Home Work"
   ]
  },
  {
   "cell_type": "markdown",
   "id": "6baa3102",
   "metadata": {},
   "source": [
    "# Accuracy"
   ]
  },
  {
   "cell_type": "code",
   "execution_count": 36,
   "id": "347c128f",
   "metadata": {},
   "outputs": [
    {
     "data": {
      "text/plain": [
       "0.8111111111111111"
      ]
     },
     "execution_count": 36,
     "metadata": {},
     "output_type": "execute_result"
    }
   ],
   "source": [
    "Accuracy = (tp+tn)/(tp+fp+tn+fn)\n",
    "Accuracy\n"
   ]
  },
  {
   "cell_type": "markdown",
   "id": "e9232119",
   "metadata": {},
   "source": [
    "# Precision or Positive Predictive Value (PPV)"
   ]
  },
  {
   "cell_type": "code",
   "execution_count": 37,
   "id": "8ce5986f",
   "metadata": {},
   "outputs": [],
   "source": [
    "PPV  = tp/(tp+fp)"
   ]
  },
  {
   "cell_type": "code",
   "execution_count": 38,
   "id": "3a8a4d68",
   "metadata": {},
   "outputs": [
    {
     "data": {
      "text/plain": [
       "0.8507462686567164"
      ]
     },
     "execution_count": 38,
     "metadata": {},
     "output_type": "execute_result"
    }
   ],
   "source": [
    "PPV"
   ]
  },
  {
   "cell_type": "markdown",
   "id": "c6623dad",
   "metadata": {},
   "source": [
    "# Sensitivity, Recall, Hit Rate, or True Positive Rate(TPR)"
   ]
  },
  {
   "cell_type": "code",
   "execution_count": 39,
   "id": "3550d867",
   "metadata": {},
   "outputs": [],
   "source": [
    "TPR = tp/(tp+fn)"
   ]
  },
  {
   "cell_type": "code",
   "execution_count": 40,
   "id": "fefaac4e",
   "metadata": {},
   "outputs": [
    {
     "data": {
      "text/plain": [
       "0.890625"
      ]
     },
     "execution_count": 40,
     "metadata": {},
     "output_type": "execute_result"
    }
   ],
   "source": [
    "TPR"
   ]
  },
  {
   "cell_type": "markdown",
   "id": "221d23ce",
   "metadata": {},
   "source": [
    "# False Positive Rate (FPR) or 1-Specificity"
   ]
  },
  {
   "cell_type": "code",
   "execution_count": 41,
   "id": "29b044b5",
   "metadata": {},
   "outputs": [],
   "source": [
    "FPR = fp/(fp + tn)"
   ]
  },
  {
   "cell_type": "code",
   "execution_count": 42,
   "id": "5657820f",
   "metadata": {},
   "outputs": [
    {
     "data": {
      "text/plain": [
       "0.38461538461538464"
      ]
     },
     "execution_count": 42,
     "metadata": {},
     "output_type": "execute_result"
    }
   ],
   "source": [
    "FPR"
   ]
  },
  {
   "cell_type": "markdown",
   "id": "28b7c325",
   "metadata": {},
   "source": [
    "# F1 Measure"
   ]
  },
  {
   "cell_type": "code",
   "execution_count": 43,
   "id": "d6c75e36",
   "metadata": {},
   "outputs": [],
   "source": [
    "F1_Measure = (PPV + TPR)/2"
   ]
  },
  {
   "cell_type": "code",
   "execution_count": 44,
   "id": "d3c5a61a",
   "metadata": {},
   "outputs": [
    {
     "data": {
      "text/plain": [
       "0.8706856343283582"
      ]
     },
     "execution_count": 44,
     "metadata": {},
     "output_type": "execute_result"
    }
   ],
   "source": [
    "F1_Measure"
   ]
  },
  {
   "cell_type": "markdown",
   "id": "3db023f5",
   "metadata": {},
   "source": [
    "# Harmonic Mean, F1 Score"
   ]
  },
  {
   "cell_type": "code",
   "execution_count": 45,
   "id": "a358349d",
   "metadata": {},
   "outputs": [],
   "source": [
    "F1 = (2 * PPV * TPR) / (PPV + TPR)"
   ]
  },
  {
   "cell_type": "code",
   "execution_count": 46,
   "id": "98463a75",
   "metadata": {},
   "outputs": [
    {
     "data": {
      "text/plain": [
       "0.8702290076335878"
      ]
     },
     "execution_count": 46,
     "metadata": {},
     "output_type": "execute_result"
    }
   ],
   "source": [
    "F1"
   ]
  },
  {
   "cell_type": "markdown",
   "id": "18eb4ec9",
   "metadata": {},
   "source": [
    "# Specificity, Selectivity or True Negative Rate (TNR)"
   ]
  },
  {
   "cell_type": "code",
   "execution_count": 47,
   "id": "02770a6f",
   "metadata": {},
   "outputs": [],
   "source": [
    "Specificity = tn / (tn + fp)"
   ]
  },
  {
   "cell_type": "code",
   "execution_count": 48,
   "id": "8539bf02",
   "metadata": {},
   "outputs": [
    {
     "data": {
      "text/plain": [
       "0.6153846153846154"
      ]
     },
     "execution_count": 48,
     "metadata": {},
     "output_type": "execute_result"
    }
   ],
   "source": [
    "Specificity"
   ]
  },
  {
   "cell_type": "markdown",
   "id": "cab085d7",
   "metadata": {},
   "source": [
    "# Treat Score(TS) or Critical Success Index (CSI)"
   ]
  },
  {
   "cell_type": "code",
   "execution_count": 49,
   "id": "b78291e9",
   "metadata": {},
   "outputs": [],
   "source": [
    "CSI = tp / (tp + fn + fp)"
   ]
  },
  {
   "cell_type": "code",
   "execution_count": 50,
   "id": "1075c8c6",
   "metadata": {},
   "outputs": [
    {
     "data": {
      "text/plain": [
       "0.7702702702702703"
      ]
     },
     "execution_count": 50,
     "metadata": {},
     "output_type": "execute_result"
    }
   ],
   "source": [
    "CSI"
   ]
  },
  {
   "cell_type": "markdown",
   "id": "009f84a4",
   "metadata": {},
   "source": [
    "# False Discovery Rate(FDR)"
   ]
  },
  {
   "cell_type": "code",
   "execution_count": 51,
   "id": "a8380336",
   "metadata": {},
   "outputs": [],
   "source": [
    "FDR = fp / (tp+fp)"
   ]
  },
  {
   "cell_type": "code",
   "execution_count": 52,
   "id": "7d3c4d96",
   "metadata": {},
   "outputs": [
    {
     "data": {
      "text/plain": [
       "0.14925373134328357"
      ]
     },
     "execution_count": 52,
     "metadata": {},
     "output_type": "execute_result"
    }
   ],
   "source": [
    "FDR"
   ]
  },
  {
   "cell_type": "markdown",
   "id": "58153b91",
   "metadata": {},
   "source": [
    "# AUC"
   ]
  },
  {
   "cell_type": "code",
   "execution_count": 53,
   "id": "1e4d4522",
   "metadata": {},
   "outputs": [],
   "source": [
    "from sklearn.metrics import plot_roc_curve"
   ]
  },
  {
   "cell_type": "code",
   "execution_count": 54,
   "id": "ac7221f6",
   "metadata": {},
   "outputs": [
    {
     "data": {
      "text/plain": [
       "[<matplotlib.lines.Line2D at 0x1158055a970>]"
      ]
     },
     "execution_count": 54,
     "metadata": {},
     "output_type": "execute_result"
    },
    {
     "data": {
      "image/png": "[encoded data removed]",
      "text/plain": [
       "<Figure size 432x288 with 1 Axes>"
      ]
     },
     "metadata": {
      "needs_background": "light"
     },
     "output_type": "display_data"
    }
   ],
   "source": [
    "plot_roc_curve(clf, xtest, ytest)\n",
    "plt.plot([0,1],[0,1])"
   ]
  },
  {
   "cell_type": "code",
   "execution_count": 55,
   "id": "d6f7cfd1",
   "metadata": {},
   "outputs": [
    {
     "data": {
      "text/plain": [
       "0.8111111111111111"
      ]
     },
     "execution_count": 55,
     "metadata": {},
     "output_type": "execute_result"
    }
   ],
   "source": [
    "accuracy_score(ytest,pred)"
   ]
  },
  {
   "cell_type": "code",
   "execution_count": 56,
   "id": "e3c50675",
   "metadata": {},
   "outputs": [
    {
     "data": {
      "text/plain": [
       "0.8111111111111111"
      ]
     },
     "execution_count": 56,
     "metadata": {},
     "output_type": "execute_result"
    }
   ],
   "source": [
    "clf.score(xtest,ytest)"
   ]
  },
  {
   "cell_type": "code",
   "execution_count": 57,
   "id": "a8297d40",
   "metadata": {},
   "outputs": [
    {
     "data": {
      "text/plain": [
       "0.8111111111111111"
      ]
     },
     "execution_count": 57,
     "metadata": {},
     "output_type": "execute_result"
    }
   ],
   "source": [
    "(tp+tn) / (tp+tn+fp+fn)"
   ]
  },
  {
   "cell_type": "code",
   "execution_count": null,
   "id": "2c052167",
   "metadata": {},
   "outputs": [],
   "source": []
  }
 ],
 "metadata": {
  "kernelspec": {
   "display_name": "Python 3 (ipykernel)",
   "language": "python",
   "name": "python3"
  },
  "language_info": {
   "codemirror_mode": {
    "name": "ipython",
    "version": 3
   },
   "file_extension": ".py",
   "mimetype": "text/x-python",
   "name": "python",
   "nbconvert_exporter": "python",
   "pygments_lexer": "ipython3",
   "version": "3.9.12"
  }
 },
 "nbformat": 4,
 "nbformat_minor": 5
}
